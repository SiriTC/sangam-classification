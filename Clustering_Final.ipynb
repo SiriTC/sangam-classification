{
  "cells": [
    {
      "cell_type": "code",
      "execution_count": null,
      "metadata": {
        "id": "hD5b65nMEGbN"
      },
      "outputs": [],
      "source": [
        "#%%shell\n",
        "#jupyter nbconvert --to html /content/Clustering_Final.ipynb"
      ]
    },
    {
      "cell_type": "code",
      "execution_count": null,
      "metadata": {
        "colab": {
          "base_uri": "https://localhost:8080/",
          "height": 206
        },
        "id": "ap4w-Hp058nt",
        "outputId": "8ead6cc4-818a-42f1-b7aa-7e0a73eb87fb"
      },
      "outputs": [
        {
          "data": {
            "text/html": [
              "\n",
              "  <div id=\"df-ddc48a8b-fc0e-4ca0-838d-a90a7ac829c0\">\n",
              "    <div class=\"colab-df-container\">\n",
              "      <div>\n",
              "<style scoped>\n",
              "    .dataframe tbody tr th:only-of-type {\n",
              "        vertical-align: middle;\n",
              "    }\n",
              "\n",
              "    .dataframe tbody tr th {\n",
              "        vertical-align: top;\n",
              "    }\n",
              "\n",
              "    .dataframe thead th {\n",
              "        text-align: right;\n",
              "    }\n",
              "</style>\n",
              "<table border=\"1\" class=\"dataframe\">\n",
              "  <thead>\n",
              "    <tr style=\"text-align: right;\">\n",
              "      <th></th>\n",
              "      <th>DO</th>\n",
              "      <th>pH</th>\n",
              "      <th>ORP</th>\n",
              "      <th>Cond</th>\n",
              "      <th>Temp</th>\n",
              "    </tr>\n",
              "  </thead>\n",
              "  <tbody>\n",
              "    <tr>\n",
              "      <th>1</th>\n",
              "      <td>9.494212</td>\n",
              "      <td>13.765934</td>\n",
              "      <td>0.148402</td>\n",
              "      <td>12.954404</td>\n",
              "      <td>17.830261</td>\n",
              "    </tr>\n",
              "    <tr>\n",
              "      <th>3</th>\n",
              "      <td>9.500406</td>\n",
              "      <td>13.337535</td>\n",
              "      <td>0.144504</td>\n",
              "      <td>8.547796</td>\n",
              "      <td>17.798553</td>\n",
              "    </tr>\n",
              "    <tr>\n",
              "      <th>5</th>\n",
              "      <td>9.487448</td>\n",
              "      <td>13.198463</td>\n",
              "      <td>0.134372</td>\n",
              "      <td>16.847918</td>\n",
              "      <td>17.864930</td>\n",
              "    </tr>\n",
              "    <tr>\n",
              "      <th>7</th>\n",
              "      <td>9.486121</td>\n",
              "      <td>12.732116</td>\n",
              "      <td>0.142709</td>\n",
              "      <td>16.884756</td>\n",
              "      <td>17.871735</td>\n",
              "    </tr>\n",
              "    <tr>\n",
              "      <th>9</th>\n",
              "      <td>9.485211</td>\n",
              "      <td>13.284467</td>\n",
              "      <td>0.137524</td>\n",
              "      <td>16.987082</td>\n",
              "      <td>17.876404</td>\n",
              "    </tr>\n",
              "  </tbody>\n",
              "</table>\n",
              "</div>\n",
              "      <button class=\"colab-df-convert\" onclick=\"convertToInteractive('df-ddc48a8b-fc0e-4ca0-838d-a90a7ac829c0')\"\n",
              "              title=\"Convert this dataframe to an interactive table.\"\n",
              "              style=\"display:none;\">\n",
              "        \n",
              "  <svg xmlns=\"http://www.w3.org/2000/svg\" height=\"24px\"viewBox=\"0 0 24 24\"\n",
              "       width=\"24px\">\n",
              "    <path d=\"M0 0h24v24H0V0z\" fill=\"none\"/>\n",
              "    <path d=\"M18.56 5.44l.94 2.06.94-2.06 2.06-.94-2.06-.94-.94-2.06-.94 2.06-2.06.94zm-11 1L8.5 8.5l.94-2.06 2.06-.94-2.06-.94L8.5 2.5l-.94 2.06-2.06.94zm10 10l.94 2.06.94-2.06 2.06-.94-2.06-.94-.94-2.06-.94 2.06-2.06.94z\"/><path d=\"M17.41 7.96l-1.37-1.37c-.4-.4-.92-.59-1.43-.59-.52 0-1.04.2-1.43.59L10.3 9.45l-7.72 7.72c-.78.78-.78 2.05 0 2.83L4 21.41c.39.39.9.59 1.41.59.51 0 1.02-.2 1.41-.59l7.78-7.78 2.81-2.81c.8-.78.8-2.07 0-2.86zM5.41 20L4 18.59l7.72-7.72 1.47 1.35L5.41 20z\"/>\n",
              "  </svg>\n",
              "      </button>\n",
              "      \n",
              "  <style>\n",
              "    .colab-df-container {\n",
              "      display:flex;\n",
              "      flex-wrap:wrap;\n",
              "      gap: 12px;\n",
              "    }\n",
              "\n",
              "    .colab-df-convert {\n",
              "      background-color: #E8F0FE;\n",
              "      border: none;\n",
              "      border-radius: 50%;\n",
              "      cursor: pointer;\n",
              "      display: none;\n",
              "      fill: #1967D2;\n",
              "      height: 32px;\n",
              "      padding: 0 0 0 0;\n",
              "      width: 32px;\n",
              "    }\n",
              "\n",
              "    .colab-df-convert:hover {\n",
              "      background-color: #E2EBFA;\n",
              "      box-shadow: 0px 1px 2px rgba(60, 64, 67, 0.3), 0px 1px 3px 1px rgba(60, 64, 67, 0.15);\n",
              "      fill: #174EA6;\n",
              "    }\n",
              "\n",
              "    [theme=dark] .colab-df-convert {\n",
              "      background-color: #3B4455;\n",
              "      fill: #D2E3FC;\n",
              "    }\n",
              "\n",
              "    [theme=dark] .colab-df-convert:hover {\n",
              "      background-color: #434B5C;\n",
              "      box-shadow: 0px 1px 3px 1px rgba(0, 0, 0, 0.15);\n",
              "      filter: drop-shadow(0px 1px 2px rgba(0, 0, 0, 0.3));\n",
              "      fill: #FFFFFF;\n",
              "    }\n",
              "  </style>\n",
              "\n",
              "      <script>\n",
              "        const buttonEl =\n",
              "          document.querySelector('#df-ddc48a8b-fc0e-4ca0-838d-a90a7ac829c0 button.colab-df-convert');\n",
              "        buttonEl.style.display =\n",
              "          google.colab.kernel.accessAllowed ? 'block' : 'none';\n",
              "\n",
              "        async function convertToInteractive(key) {\n",
              "          const element = document.querySelector('#df-ddc48a8b-fc0e-4ca0-838d-a90a7ac829c0');\n",
              "          const dataTable =\n",
              "            await google.colab.kernel.invokeFunction('convertToInteractive',\n",
              "                                                     [key], {});\n",
              "          if (!dataTable) return;\n",
              "\n",
              "          const docLinkHtml = 'Like what you see? Visit the ' +\n",
              "            '<a target=\"_blank\" href=https://colab.research.google.com/notebooks/data_table.ipynb>data table notebook</a>'\n",
              "            + ' to learn more about interactive tables.';\n",
              "          element.innerHTML = '';\n",
              "          dataTable['output_type'] = 'display_data';\n",
              "          await google.colab.output.renderOutput(dataTable, element);\n",
              "          const docLink = document.createElement('div');\n",
              "          docLink.innerHTML = docLinkHtml;\n",
              "          element.appendChild(docLink);\n",
              "        }\n",
              "      </script>\n",
              "    </div>\n",
              "  </div>\n",
              "  "
            ],
            "text/plain": [
              "         DO         pH       ORP       Cond       Temp\n",
              "1  9.494212  13.765934  0.148402  12.954404  17.830261\n",
              "3  9.500406  13.337535  0.144504   8.547796  17.798553\n",
              "5  9.487448  13.198463  0.134372  16.847918  17.864930\n",
              "7  9.486121  12.732116  0.142709  16.884756  17.871735\n",
              "9  9.485211  13.284467  0.137524  16.987082  17.876404"
            ]
          },
          "execution_count": 3,
          "metadata": {},
          "output_type": "execute_result"
        }
      ],
      "source": [
        "#Importing required modules\n",
        " \n",
        "from sklearn.datasets import load_digits\n",
        "from sklearn.decomposition import PCA\n",
        "from sklearn.cluster import KMeans\n",
        "import numpy as np\n",
        "import pandas as pd\n",
        " \n",
        "#Load Data\n",
        "data =pd.read_csv('/content/sangam.csv')\n",
        "data=data.dropna(how=\"all\")\n",
        "data=data.drop([\"WQI\"],axis=1)\n",
        "data.head()\n"
      ]
    },
    {
      "cell_type": "code",
      "execution_count": null,
      "metadata": {
        "colab": {
          "base_uri": "https://localhost:8080/"
        },
        "id": "-27xGjgDg_Wb",
        "outputId": "b2511336-4738-469a-863c-748ec6cdb8a6"
      },
      "outputs": [
        {
          "data": {
            "text/plain": [
              "array([[-425.39188324,    9.18321646],\n",
              "       [-429.79901592,    9.28926217],\n",
              "       [-421.49962064,    9.19774778],\n",
              "       ...,\n",
              "       [  70.5802143 ,    2.87416655],\n",
              "       [  70.66870628,    2.87315542],\n",
              "       [  70.68151168,    2.86868662]])"
            ]
          },
          "execution_count": 4,
          "metadata": {},
          "output_type": "execute_result"
        }
      ],
      "source": [
        "#Principal Component Analysis\n",
        "pca = PCA(2)\n",
        " \n",
        "#Transform the data\n",
        "df = pca.fit_transform(data)\n",
        " \n",
        "df.shape\n",
        "df"
      ]
    },
    {
      "cell_type": "code",
      "execution_count": null,
      "metadata": {
        "colab": {
          "base_uri": "https://localhost:8080/"
        },
        "id": "qQM9YUVx6CFZ",
        "outputId": "9b0ceac1-8c63-41d6-8c7c-136dd08209a1"
      },
      "outputs": [
        {
          "name": "stdout",
          "output_type": "stream",
          "text": [
            "[2 2 2 ... 0 0 0]\n"
          ]
        }
      ],
      "source": [
        "#Import required module\n",
        "from sklearn.cluster import KMeans\n",
        " \n",
        "#Initialize the class object\n",
        "kmeans = KMeans(n_clusters= 5)\n",
        " \n",
        "#predict the labels of clusters.\n",
        "label = kmeans.fit_predict(df)\n",
        " \n",
        "print(label)"
      ]
    },
    {
      "cell_type": "code",
      "execution_count": null,
      "metadata": {
        "colab": {
          "base_uri": "https://localhost:8080/",
          "height": 265
        },
        "id": "ZuI-W6oA6Ri-",
        "outputId": "e5d95ce6-5604-49e8-d7e9-20abc472d4e3"
      },
      "outputs": [
        {
          "data": {
            "image/png": "[encoded data removed]",
            "text/plain": [
              "<Figure size 432x288 with 1 Axes>"
            ]
          },
          "metadata": {
            "needs_background": "light"
          },
          "output_type": "display_data"
        }
      ],
      "source": [
        "import matplotlib.pyplot as plt\n",
        " \n",
        "#filter rows of original data\n",
        "filtered_label0 = df[label == 0]\n",
        " \n",
        "#plotting the results\n",
        "plt.scatter(filtered_label0[:,0] , filtered_label0[:,1])\n",
        "plt.show()"
      ]
    },
    {
      "cell_type": "code",
      "execution_count": null,
      "metadata": {
        "colab": {
          "base_uri": "https://localhost:8080/"
        },
        "id": "zATEqGaBDIht",
        "outputId": "3bed79ec-0f42-4bfd-ba91-008826282bf3"
      },
      "outputs": [
        {
          "data": {
            "text/plain": [
              "(15191, 2)"
            ]
          },
          "execution_count": 7,
          "metadata": {},
          "output_type": "execute_result"
        }
      ],
      "source": [
        "filtered_label0 = df[label == 0]\n",
        "filtered_label0.shape\n"
      ]
    },
    {
      "cell_type": "code",
      "execution_count": null,
      "metadata": {
        "colab": {
          "base_uri": "https://localhost:8080/"
        },
        "id": "TLS0k0oYyec8",
        "outputId": "bc8e8915-d561-406c-b1fa-e8d637feec92"
      },
      "outputs": [
        {
          "name": "stdout",
          "output_type": "stream",
          "text": [
            "[[171.58266667  -3.52706975]\n",
            " [171.2451029   -3.5183231 ]\n",
            " [171.38253911  -3.51758184]\n",
            " ...\n",
            " [ 70.5802143    2.87416655]\n",
            " [ 70.66870628   2.87315542]\n",
            " [ 70.68151168   2.86868662]]\n"
          ]
        }
      ],
      "source": [
        "filtered_label0 = df[label == 0]\n",
        "filtered_label0.shape\n",
        "print(filtered_label0)"
      ]
    },
    {
      "cell_type": "code",
      "execution_count": null,
      "metadata": {
        "colab": {
          "base_uri": "https://localhost:8080/"
        },
        "id": "6-NP2fUxzGN9",
        "outputId": "cee25951-9067-4dca-a978-449e10b05899"
      },
      "outputs": [
        {
          "name": "stdout",
          "output_type": "stream",
          "text": [
            "[[-1.41306379e+02  1.48962498e-01]\n",
            " [-1.32450094e+02  1.16778429e-01]\n",
            " [-1.30652809e+02  1.06414858e-01]\n",
            " ...\n",
            " [-1.81192252e+02 -1.95127131e+00]\n",
            " [-1.81243581e+02 -1.94693748e+00]\n",
            " [-1.65374820e+02 -1.79506037e+00]]\n"
          ]
        }
      ],
      "source": [
        "filtered_label1 = df[label == 1]\n",
        "filtered_label1.shape\n",
        "print(filtered_label1)\n"
      ]
    },
    {
      "cell_type": "code",
      "execution_count": null,
      "metadata": {
        "colab": {
          "base_uri": "https://localhost:8080/"
        },
        "id": "4YFuHJrmzLJL",
        "outputId": "ea198afc-e763-4be8-dbb7-41ef90958f08"
      },
      "outputs": [
        {
          "name": "stdout",
          "output_type": "stream",
          "text": [
            "[[-4.25391883e+02  9.18321646e+00]\n",
            " [-4.29799016e+02  9.28926217e+00]\n",
            " [-4.21499621e+02  9.19774778e+00]\n",
            " ...\n",
            " [-4.36481923e+02 -3.32291956e-01]\n",
            " [-4.36482320e+02 -3.32151561e-01]\n",
            " [-4.36511108e+02  1.18913810e+01]]\n"
          ]
        }
      ],
      "source": [
        "filtered_label2 = df[label == 2]\n",
        "filtered_label2.shape\n",
        "print(filtered_label2)"
      ]
    },
    {
      "cell_type": "code",
      "execution_count": null,
      "metadata": {
        "colab": {
          "base_uri": "https://localhost:8080/"
        },
        "id": "wjSA1rVFzNtD",
        "outputId": "f4f2edd3-708c-4687-da0f-2c227b166c97"
      },
      "outputs": [
        {
          "name": "stdout",
          "output_type": "stream",
          "text": [
            "[[-42.91213347  -4.68394854]\n",
            " [-41.52100064  -4.71189835]\n",
            " [-40.50434315  -4.7861919 ]\n",
            " ...\n",
            " [-83.75932482  -1.10589958]\n",
            " [-83.7578997   -1.10993982]\n",
            " [-84.75143901  -1.09677342]]\n"
          ]
        }
      ],
      "source": [
        "filtered_label3 = df[label == 3]\n",
        "filtered_label3.shape\n",
        "print(filtered_label3)"
      ]
    },
    {
      "cell_type": "code",
      "execution_count": null,
      "metadata": {
        "colab": {
          "base_uri": "https://localhost:8080/"
        },
        "id": "iRJ94gRAzP_c",
        "outputId": "c855418e-b538-40e9-d081-c5fa79f3d888"
      },
      "outputs": [
        {
          "name": "stdout",
          "output_type": "stream",
          "text": [
            "[[527.84967761 -10.0613179 ]\n",
            " [529.9471554   -9.93676602]\n",
            " [525.6943632   -9.90212391]\n",
            " ...\n",
            " [326.01363755   5.45886244]\n",
            " [325.93594186   5.46411661]\n",
            " [325.90362607   5.46095475]]\n"
          ]
        }
      ],
      "source": [
        "filtered_label4 = df[label == 4]\n",
        "filtered_label4.shape\n",
        "print(filtered_label4)"
      ]
    },
    {
      "cell_type": "code",
      "execution_count": null,
      "metadata": {
        "id": "KyDDbmFC6UxT"
      },
      "outputs": [],
      "source": [
        "#filter rows of original data\n",
        "filtered_label1 = df[label == 1]\n",
        " \n",
        "filtered_label3 = df[label == 3]\n",
        " \n"
      ]
    },
    {
      "cell_type": "code",
      "execution_count": null,
      "metadata": {
        "colab": {
          "base_uri": "https://localhost:8080/",
          "height": 265
        },
        "id": "jmY8mohQkM5E",
        "outputId": "81c19fdc-7a04-465b-c710-e0194a117352"
      },
      "outputs": [
        {
          "data": {
            "image/png": "[encoded data removed]",
            "text/plain": [
              "<Figure size 432x288 with 1 Axes>"
            ]
          },
          "metadata": {
            "needs_background": "light"
          },
          "output_type": "display_data"
        }
      ],
      "source": [
        "!#Plotting the results\n",
        "plt.scatter(filtered_label0[:,0] , filtered_label0[:,1] , color = 'red')\n",
        "plt.scatter(filtered_label3[:,0] , filtered_label3[:,1] , color = 'black')\n",
        "plt.show()"
      ]
    },
    {
      "cell_type": "code",
      "execution_count": null,
      "metadata": {
        "colab": {
          "base_uri": "https://localhost:8080/",
          "height": 265
        },
        "id": "6JvY9wQt6blc",
        "outputId": "3835f93f-e93c-415b-9d2a-94a198ab8eaa"
      },
      "outputs": [
        {
          "data": {
            "image/png": "[encoded data removed]",
            "text/plain": [
              "<Figure size 432x288 with 1 Axes>"
            ]
          },
          "metadata": {
            "needs_background": "light"
          },
          "output_type": "display_data"
        }
      ],
      "source": [
        "#Getting unique labels\n",
        " \n",
        "u_labels = np.unique(label)\n",
        " \n",
        "#plotting the results:\n",
        " \n",
        "for i in u_labels:\n",
        "    plt.scatter(df[label == i , 0] , df[label == i , 1] , label = i)\n",
        "plt.legend()\n",
        "plt.show()"
      ]
    },
    {
      "cell_type": "code",
      "execution_count": null,
      "metadata": {
        "colab": {
          "base_uri": "https://localhost:8080/",
          "height": 265
        },
        "id": "JQhQ_4Do66lG",
        "outputId": "5b861d30-37a4-4267-b5f3-4d7c09543339"
      },
      "outputs": [
        {
          "data": {
            "image/png": "[encoded data removed]",
            "text/plain": [
              "<Figure size 432x288 with 1 Axes>"
            ]
          },
          "metadata": {
            "needs_background": "light"
          },
          "output_type": "display_data"
        }
      ],
      "source": [
        "#Getting the Centroids\n",
        "centroids = kmeans.cluster_centers_\n",
        "u_labels = np.unique(label)\n",
        " \n",
        "#plotting the results:\n",
        " \n",
        "for i in u_labels:\n",
        "    plt.scatter(df[label == i , 0] , df[label == i , 1] , label = i)\n",
        "plt.scatter(centroids[:,0] , centroids[:,1] , s = 80, color = 'k',marker='+')\n",
        "plt.legend()\n",
        "plt.show()"
      ]
    },
    {
      "cell_type": "code",
      "execution_count": null,
      "metadata": {
        "colab": {
          "base_uri": "https://localhost:8080/",
          "height": 282
        },
        "id": "Fhdz-ceDPBy7",
        "outputId": "ece1c1bf-eb34-4144-8889-a5e566cc8221"
      },
      "outputs": [
        {
          "data": {
            "text/plain": [
              "<matplotlib.collections.PathCollection at 0x7f83779da110>"
            ]
          },
          "execution_count": 18,
          "metadata": {},
          "output_type": "execute_result"
        },
        {
          "data": {
            "image/png": "[encoded data removed]",
            "text/plain": [
              "<Figure size 432x288 with 1 Axes>"
            ]
          },
          "metadata": {
            "needs_background": "light"
          },
          "output_type": "display_data"
        }
      ],
      "source": [
        "plt.scatter(df[label==0,0],df[label==0,1],label=0,)"
      ]
    },
    {
      "cell_type": "code",
      "execution_count": null,
      "metadata": {
        "colab": {
          "base_uri": "https://localhost:8080/",
          "height": 282
        },
        "id": "or8lDacMPZFV",
        "outputId": "8d704df7-abd8-4ae5-8a2e-0251c7c4a37e"
      },
      "outputs": [
        {
          "data": {
            "text/plain": [
              "<matplotlib.collections.PathCollection at 0x7f8377e14710>"
            ]
          },
          "execution_count": 19,
          "metadata": {},
          "output_type": "execute_result"
        },
        {
          "data": {
            "image/png": "[encoded data removed]",
            "text/plain": [
              "<Figure size 432x288 with 1 Axes>"
            ]
          },
          "metadata": {
            "needs_background": "light"
          },
          "output_type": "display_data"
        }
      ],
      "source": [
        "plt.scatter(df[label==1,0],df[label==1,1],label=1,color='orange')"
      ]
    },
    {
      "cell_type": "code",
      "execution_count": null,
      "metadata": {
        "colab": {
          "base_uri": "https://localhost:8080/",
          "height": 282
        },
        "id": "Yfz_YqbAPf3G",
        "outputId": "ff211f34-f1db-4ebe-ccb3-f406776d3158"
      },
      "outputs": [
        {
          "data": {
            "text/plain": [
              "<matplotlib.collections.PathCollection at 0x7f8377e06590>"
            ]
          },
          "execution_count": 20,
          "metadata": {},
          "output_type": "execute_result"
        },
        {
          "data": {
            "image/png": "[encoded data removed]",
            "text/plain": [
              "<Figure size 432x288 with 1 Axes>"
            ]
          },
          "metadata": {
            "needs_background": "light"
          },
          "output_type": "display_data"
        }
      ],
      "source": [
        "plt.scatter(df[label==2,0],df[label==2,1],label=2,color='g')"
      ]
    },
    {
      "cell_type": "code",
      "execution_count": null,
      "metadata": {
        "colab": {
          "base_uri": "https://localhost:8080/",
          "height": 282
        },
        "id": "w2hp6DY1PlvX",
        "outputId": "76656c6e-59f8-4487-9051-d423e1edc26e"
      },
      "outputs": [
        {
          "data": {
            "text/plain": [
              "<matplotlib.collections.PathCollection at 0x7f8377d800d0>"
            ]
          },
          "execution_count": 21,
          "metadata": {},
          "output_type": "execute_result"
        },
        {
          "data": {
            "image/png": "[encoded data removed]",
            "text/plain": [
              "<Figure size 432x288 with 1 Axes>"
            ]
          },
          "metadata": {
            "needs_background": "light"
          },
          "output_type": "display_data"
        }
      ],
      "source": [
        "plt.scatter(df[label==3,0],df[label==3,1],label=3,color='r')"
      ]
    },
    {
      "cell_type": "code",
      "execution_count": null,
      "metadata": {
        "colab": {
          "base_uri": "https://localhost:8080/",
          "height": 265
        },
        "id": "-dUx0Sc4PpY-",
        "outputId": "848dff47-33c4-4a38-834f-77e7193a17ca"
      },
      "outputs": [
        {
          "data": {
            "image/png": "[encoded data removed]",
            "text/plain": [
              "<Figure size 432x288 with 1 Axes>"
            ]
          },
          "metadata": {
            "needs_background": "light"
          },
          "output_type": "display_data"
        }
      ],
      "source": [
        "x=plt.scatter(df[label==4,0],df[label==4,1],label=4,color='purple')"
      ]
    },
    {
      "cell_type": "code",
      "execution_count": null,
      "metadata": {
        "id": "z4Tn_BqiKOzn"
      },
      "outputs": [],
      "source": [
        "from sklearn.cluster import KMeans\n",
        "from sklearn import preprocessing\n",
        "import sklearn.cluster as cluster\n",
        "import sklearn.metrics as metrics\n",
        "import pandas as pd\n",
        "from sklearn.preprocessing import MinMaxScaler\n",
        "import seaborn as sns\n",
        "from matplotlib import pyplot as plt\n",
        "%matplotlib inline"
      ]
    },
    {
      "cell_type": "code",
      "execution_count": null,
      "metadata": {
        "colab": {
          "base_uri": "https://localhost:8080/",
          "height": 206
        },
        "id": "nhFMf-x_KR3U",
        "outputId": "d725ded3-411e-4233-a8be-855f25654a7b"
      },
      "outputs": [
        {
          "data": {
            "text/html": [
              "\n",
              "  <div id=\"df-c6561191-1c17-444b-be2c-3e927f6b656c\">\n",
              "    <div class=\"colab-df-container\">\n",
              "      <div>\n",
              "<style scoped>\n",
              "    .dataframe tbody tr th:only-of-type {\n",
              "        vertical-align: middle;\n",
              "    }\n",
              "\n",
              "    .dataframe tbody tr th {\n",
              "        vertical-align: top;\n",
              "    }\n",
              "\n",
              "    .dataframe thead th {\n",
              "        text-align: right;\n",
              "    }\n",
              "</style>\n",
              "<table border=\"1\" class=\"dataframe\">\n",
              "  <thead>\n",
              "    <tr style=\"text-align: right;\">\n",
              "      <th></th>\n",
              "      <th>DO</th>\n",
              "      <th>pH</th>\n",
              "      <th>ORP</th>\n",
              "      <th>Cond</th>\n",
              "      <th>Temp</th>\n",
              "    </tr>\n",
              "  </thead>\n",
              "  <tbody>\n",
              "    <tr>\n",
              "      <th>1</th>\n",
              "      <td>9.494212</td>\n",
              "      <td>13.765934</td>\n",
              "      <td>0.148402</td>\n",
              "      <td>12.954404</td>\n",
              "      <td>17.830261</td>\n",
              "    </tr>\n",
              "    <tr>\n",
              "      <th>3</th>\n",
              "      <td>9.500406</td>\n",
              "      <td>13.337535</td>\n",
              "      <td>0.144504</td>\n",
              "      <td>8.547796</td>\n",
              "      <td>17.798553</td>\n",
              "    </tr>\n",
              "    <tr>\n",
              "      <th>5</th>\n",
              "      <td>9.487448</td>\n",
              "      <td>13.198463</td>\n",
              "      <td>0.134372</td>\n",
              "      <td>16.847918</td>\n",
              "      <td>17.864930</td>\n",
              "    </tr>\n",
              "    <tr>\n",
              "      <th>7</th>\n",
              "      <td>9.486121</td>\n",
              "      <td>12.732116</td>\n",
              "      <td>0.142709</td>\n",
              "      <td>16.884756</td>\n",
              "      <td>17.871735</td>\n",
              "    </tr>\n",
              "    <tr>\n",
              "      <th>9</th>\n",
              "      <td>9.485211</td>\n",
              "      <td>13.284467</td>\n",
              "      <td>0.137524</td>\n",
              "      <td>16.987082</td>\n",
              "      <td>17.876404</td>\n",
              "    </tr>\n",
              "  </tbody>\n",
              "</table>\n",
              "</div>\n",
              "      <button class=\"colab-df-convert\" onclick=\"convertToInteractive('df-c6561191-1c17-444b-be2c-3e927f6b656c')\"\n",
              "              title=\"Convert this dataframe to an interactive table.\"\n",
              "              style=\"display:none;\">\n",
              "        \n",
              "  <svg xmlns=\"http://www.w3.org/2000/svg\" height=\"24px\"viewBox=\"0 0 24 24\"\n",
              "       width=\"24px\">\n",
              "    <path d=\"M0 0h24v24H0V0z\" fill=\"none\"/>\n",
              "    <path d=\"M18.56 5.44l.94 2.06.94-2.06 2.06-.94-2.06-.94-.94-2.06-.94 2.06-2.06.94zm-11 1L8.5 8.5l.94-2.06 2.06-.94-2.06-.94L8.5 2.5l-.94 2.06-2.06.94zm10 10l.94 2.06.94-2.06 2.06-.94-2.06-.94-.94-2.06-.94 2.06-2.06.94z\"/><path d=\"M17.41 7.96l-1.37-1.37c-.4-.4-.92-.59-1.43-.59-.52 0-1.04.2-1.43.59L10.3 9.45l-7.72 7.72c-.78.78-.78 2.05 0 2.83L4 21.41c.39.39.9.59 1.41.59.51 0 1.02-.2 1.41-.59l7.78-7.78 2.81-2.81c.8-.78.8-2.07 0-2.86zM5.41 20L4 18.59l7.72-7.72 1.47 1.35L5.41 20z\"/>\n",
              "  </svg>\n",
              "      </button>\n",
              "      \n",
              "  <style>\n",
              "    .colab-df-container {\n",
              "      display:flex;\n",
              "      flex-wrap:wrap;\n",
              "      gap: 12px;\n",
              "    }\n",
              "\n",
              "    .colab-df-convert {\n",
              "      background-color: #E8F0FE;\n",
              "      border: none;\n",
              "      border-radius: 50%;\n",
              "      cursor: pointer;\n",
              "      display: none;\n",
              "      fill: #1967D2;\n",
              "      height: 32px;\n",
              "      padding: 0 0 0 0;\n",
              "      width: 32px;\n",
              "    }\n",
              "\n",
              "    .colab-df-convert:hover {\n",
              "      background-color: #E2EBFA;\n",
              "      box-shadow: 0px 1px 2px rgba(60, 64, 67, 0.3), 0px 1px 3px 1px rgba(60, 64, 67, 0.15);\n",
              "      fill: #174EA6;\n",
              "    }\n",
              "\n",
              "    [theme=dark] .colab-df-convert {\n",
              "      background-color: #3B4455;\n",
              "      fill: #D2E3FC;\n",
              "    }\n",
              "\n",
              "    [theme=dark] .colab-df-convert:hover {\n",
              "      background-color: #434B5C;\n",
              "      box-shadow: 0px 1px 3px 1px rgba(0, 0, 0, 0.15);\n",
              "      filter: drop-shadow(0px 1px 2px rgba(0, 0, 0, 0.3));\n",
              "      fill: #FFFFFF;\n",
              "    }\n",
              "  </style>\n",
              "\n",
              "      <script>\n",
              "        const buttonEl =\n",
              "          document.querySelector('#df-c6561191-1c17-444b-be2c-3e927f6b656c button.colab-df-convert');\n",
              "        buttonEl.style.display =\n",
              "          google.colab.kernel.accessAllowed ? 'block' : 'none';\n",
              "\n",
              "        async function convertToInteractive(key) {\n",
              "          const element = document.querySelector('#df-c6561191-1c17-444b-be2c-3e927f6b656c');\n",
              "          const dataTable =\n",
              "            await google.colab.kernel.invokeFunction('convertToInteractive',\n",
              "                                                     [key], {});\n",
              "          if (!dataTable) return;\n",
              "\n",
              "          const docLinkHtml = 'Like what you see? Visit the ' +\n",
              "            '<a target=\"_blank\" href=https://colab.research.google.com/notebooks/data_table.ipynb>data table notebook</a>'\n",
              "            + ' to learn more about interactive tables.';\n",
              "          element.innerHTML = '';\n",
              "          dataTable['output_type'] = 'display_data';\n",
              "          await google.colab.output.renderOutput(dataTable, element);\n",
              "          const docLink = document.createElement('div');\n",
              "          docLink.innerHTML = docLinkHtml;\n",
              "          element.appendChild(docLink);\n",
              "        }\n",
              "      </script>\n",
              "    </div>\n",
              "  </div>\n",
              "  "
            ],
            "text/plain": [
              "         DO         pH       ORP       Cond       Temp\n",
              "1  9.494212  13.765934  0.148402  12.954404  17.830261\n",
              "3  9.500406  13.337535  0.144504   8.547796  17.798553\n",
              "5  9.487448  13.198463  0.134372  16.847918  17.864930\n",
              "7  9.486121  12.732116  0.142709  16.884756  17.871735\n",
              "9  9.485211  13.284467  0.137524  16.987082  17.876404"
            ]
          },
          "execution_count": 24,
          "metadata": {},
          "output_type": "execute_result"
        }
      ],
      "source": [
        "#Load Data\n",
        "data =pd.read_csv('/content/sangam.csv')\n",
        "data=data.dropna(how=\"all\")\n",
        "df=data.drop([\"WQI\"],axis=1)\n",
        "df.head()"
      ]
    },
    {
      "cell_type": "code",
      "execution_count": null,
      "metadata": {
        "colab": {
          "base_uri": "https://localhost:8080/"
        },
        "id": "6ZjjRQCmZAP9",
        "outputId": "d4c26e9d-835d-46b6-8b51-2ef73009f863"
      },
      "outputs": [
        {
          "data": {
            "text/plain": [
              "(52363, 5)"
            ]
          },
          "execution_count": 25,
          "metadata": {},
          "output_type": "execute_result"
        }
      ],
      "source": [
        "df.shape"
      ]
    },
    {
      "cell_type": "code",
      "execution_count": null,
      "metadata": {
        "colab": {
          "base_uri": "https://localhost:8080/",
          "height": 206
        },
        "id": "nxSHZXNOaC7K",
        "outputId": "ebda7f88-96a1-42f4-d27b-f61603492488"
      },
      "outputs": [
        {
          "data": {
            "text/html": [
              "\n",
              "  <div id=\"df-52cd6078-e16e-46f3-81d0-55206e4d1a37\">\n",
              "    <div class=\"colab-df-container\">\n",
              "      <div>\n",
              "<style scoped>\n",
              "    .dataframe tbody tr th:only-of-type {\n",
              "        vertical-align: middle;\n",
              "    }\n",
              "\n",
              "    .dataframe tbody tr th {\n",
              "        vertical-align: top;\n",
              "    }\n",
              "\n",
              "    .dataframe thead th {\n",
              "        text-align: right;\n",
              "    }\n",
              "</style>\n",
              "<table border=\"1\" class=\"dataframe\">\n",
              "  <thead>\n",
              "    <tr style=\"text-align: right;\">\n",
              "      <th></th>\n",
              "      <th>DO</th>\n",
              "      <th>pH</th>\n",
              "    </tr>\n",
              "  </thead>\n",
              "  <tbody>\n",
              "    <tr>\n",
              "      <th>0</th>\n",
              "      <td>0.194808</td>\n",
              "      <td>0.970183</td>\n",
              "    </tr>\n",
              "    <tr>\n",
              "      <th>1</th>\n",
              "      <td>0.195343</td>\n",
              "      <td>0.909597</td>\n",
              "    </tr>\n",
              "    <tr>\n",
              "      <th>2</th>\n",
              "      <td>0.194224</td>\n",
              "      <td>0.889928</td>\n",
              "    </tr>\n",
              "    <tr>\n",
              "      <th>3</th>\n",
              "      <td>0.194110</td>\n",
              "      <td>0.823975</td>\n",
              "    </tr>\n",
              "    <tr>\n",
              "      <th>4</th>\n",
              "      <td>0.194031</td>\n",
              "      <td>0.902091</td>\n",
              "    </tr>\n",
              "  </tbody>\n",
              "</table>\n",
              "</div>\n",
              "      <button class=\"colab-df-convert\" onclick=\"convertToInteractive('df-52cd6078-e16e-46f3-81d0-55206e4d1a37')\"\n",
              "              title=\"Convert this dataframe to an interactive table.\"\n",
              "              style=\"display:none;\">\n",
              "        \n",
              "  <svg xmlns=\"http://www.w3.org/2000/svg\" height=\"24px\"viewBox=\"0 0 24 24\"\n",
              "       width=\"24px\">\n",
              "    <path d=\"M0 0h24v24H0V0z\" fill=\"none\"/>\n",
              "    <path d=\"M18.56 5.44l.94 2.06.94-2.06 2.06-.94-2.06-.94-.94-2.06-.94 2.06-2.06.94zm-11 1L8.5 8.5l.94-2.06 2.06-.94-2.06-.94L8.5 2.5l-.94 2.06-2.06.94zm10 10l.94 2.06.94-2.06 2.06-.94-2.06-.94-.94-2.06-.94 2.06-2.06.94z\"/><path d=\"M17.41 7.96l-1.37-1.37c-.4-.4-.92-.59-1.43-.59-.52 0-1.04.2-1.43.59L10.3 9.45l-7.72 7.72c-.78.78-.78 2.05 0 2.83L4 21.41c.39.39.9.59 1.41.59.51 0 1.02-.2 1.41-.59l7.78-7.78 2.81-2.81c.8-.78.8-2.07 0-2.86zM5.41 20L4 18.59l7.72-7.72 1.47 1.35L5.41 20z\"/>\n",
              "  </svg>\n",
              "      </button>\n",
              "      \n",
              "  <style>\n",
              "    .colab-df-container {\n",
              "      display:flex;\n",
              "      flex-wrap:wrap;\n",
              "      gap: 12px;\n",
              "    }\n",
              "\n",
              "    .colab-df-convert {\n",
              "      background-color: #E8F0FE;\n",
              "      border: none;\n",
              "      border-radius: 50%;\n",
              "      cursor: pointer;\n",
              "      display: none;\n",
              "      fill: #1967D2;\n",
              "      height: 32px;\n",
              "      padding: 0 0 0 0;\n",
              "      width: 32px;\n",
              "    }\n",
              "\n",
              "    .colab-df-convert:hover {\n",
              "      background-color: #E2EBFA;\n",
              "      box-shadow: 0px 1px 2px rgba(60, 64, 67, 0.3), 0px 1px 3px 1px rgba(60, 64, 67, 0.15);\n",
              "      fill: #174EA6;\n",
              "    }\n",
              "\n",
              "    [theme=dark] .colab-df-convert {\n",
              "      background-color: #3B4455;\n",
              "      fill: #D2E3FC;\n",
              "    }\n",
              "\n",
              "    [theme=dark] .colab-df-convert:hover {\n",
              "      background-color: #434B5C;\n",
              "      box-shadow: 0px 1px 3px 1px rgba(0, 0, 0, 0.15);\n",
              "      filter: drop-shadow(0px 1px 2px rgba(0, 0, 0, 0.3));\n",
              "      fill: #FFFFFF;\n",
              "    }\n",
              "  </style>\n",
              "\n",
              "      <script>\n",
              "        const buttonEl =\n",
              "          document.querySelector('#df-52cd6078-e16e-46f3-81d0-55206e4d1a37 button.colab-df-convert');\n",
              "        buttonEl.style.display =\n",
              "          google.colab.kernel.accessAllowed ? 'block' : 'none';\n",
              "\n",
              "        async function convertToInteractive(key) {\n",
              "          const element = document.querySelector('#df-52cd6078-e16e-46f3-81d0-55206e4d1a37');\n",
              "          const dataTable =\n",
              "            await google.colab.kernel.invokeFunction('convertToInteractive',\n",
              "                                                     [key], {});\n",
              "          if (!dataTable) return;\n",
              "\n",
              "          const docLinkHtml = 'Like what you see? Visit the ' +\n",
              "            '<a target=\"_blank\" href=https://colab.research.google.com/notebooks/data_table.ipynb>data table notebook</a>'\n",
              "            + ' to learn more about interactive tables.';\n",
              "          element.innerHTML = '';\n",
              "          dataTable['output_type'] = 'display_data';\n",
              "          await google.colab.output.renderOutput(dataTable, element);\n",
              "          const docLink = document.createElement('div');\n",
              "          docLink.innerHTML = docLinkHtml;\n",
              "          element.appendChild(docLink);\n",
              "        }\n",
              "      </script>\n",
              "    </div>\n",
              "  </div>\n",
              "  "
            ],
            "text/plain": [
              "         DO        pH\n",
              "0  0.194808  0.970183\n",
              "1  0.195343  0.909597\n",
              "2  0.194224  0.889928\n",
              "3  0.194110  0.823975\n",
              "4  0.194031  0.902091"
            ]
          },
          "execution_count": 26,
          "metadata": {},
          "output_type": "execute_result"
        }
      ],
      "source": [
        "#Performing scaling operations\n",
        "scaler = MinMaxScaler()\n",
        "scale = scaler.fit_transform(df[['DO','pH']])\n",
        "df_scale = pd.DataFrame(scale, columns = ['DO','pH']);\n",
        "df_scale.head(5)"
      ]
    },
    {
      "cell_type": "code",
      "execution_count": null,
      "metadata": {
        "colab": {
          "base_uri": "https://localhost:8080/"
        },
        "id": "KK0bQ5n1asV_",
        "outputId": "0b11cf8b-77c1-4ddf-bc0b-65951172d616"
      },
      "outputs": [
        {
          "data": {
            "text/plain": [
              "array([1, 1, 1, ..., 0, 0, 0], dtype=int32)"
            ]
          },
          "execution_count": 27,
          "metadata": {},
          "output_type": "execute_result"
        }
      ],
      "source": [
        "km=KMeans(n_clusters=2)\n",
        "y_predicted = km.fit_predict(df[['DO','pH']])\n",
        "y_predicted"
      ]
    },
    {
      "cell_type": "code",
      "execution_count": null,
      "metadata": {
        "colab": {
          "base_uri": "https://localhost:8080/"
        },
        "id": "6ytAxqLYa8GM",
        "outputId": "58a121e8-6ec8-4c29-b3e4-c990caeeffc6"
      },
      "outputs": [
        {
          "data": {
            "text/plain": [
              "array([[ 8.30154613,  9.21029427],\n",
              "       [ 7.99448269, 11.82346752]])"
            ]
          },
          "execution_count": 28,
          "metadata": {},
          "output_type": "execute_result"
        }
      ],
      "source": [
        "km.cluster_centers_"
      ]
    },
    {
      "cell_type": "code",
      "execution_count": null,
      "metadata": {
        "colab": {
          "base_uri": "https://localhost:8080/",
          "height": 296
        },
        "id": "mJRAF8MpbFnz",
        "outputId": "dd9149c7-57c0-4d05-d367-7500ae008e45"
      },
      "outputs": [
        {
          "data": {
            "text/plain": [
              "<matplotlib.axes._subplots.AxesSubplot at 0x7f837799ae90>"
            ]
          },
          "execution_count": 29,
          "metadata": {},
          "output_type": "execute_result"
        },
        {
          "data": {
            "image/png": "[encoded data removed]",
            "text/plain": [
              "<Figure size 432x288 with 1 Axes>"
            ]
          },
          "metadata": {
            "needs_background": "light"
          },
          "output_type": "display_data"
        }
      ],
      "source": [
        "df['Clusters'] = km.labels_\n",
        "sns.scatterplot(x=\"pH\", y=\"DO\",hue = 'Clusters',  data=df,palette='viridis')"
      ]
    },
    {
      "cell_type": "markdown",
      "metadata": {
        "id": "F5IWJUAJa-GV"
      },
      "source": [
        "# **ELBOW**"
      ]
    },
    {
      "cell_type": "code",
      "execution_count": null,
      "metadata": {
        "id": "sLsqxTmiZ8DI"
      },
      "outputs": [],
      "source": [
        "K=range(2,12)\n",
        "wss = []\n",
        "\n",
        "for k in K:\n",
        "    kmeans=cluster.KMeans(n_clusters=k)\n",
        "    kmeans=kmeans.fit(df_scale)\n",
        "    wss_iter = kmeans.inertia_\n",
        "    wss.append(wss_iter)"
      ]
    },
    {
      "cell_type": "code",
      "execution_count": null,
      "metadata": {
        "colab": {
          "base_uri": "https://localhost:8080/",
          "height": 297
        },
        "id": "m55CP66qZ9Cj",
        "outputId": "426c7c10-4b8d-4419-f671-b5c9b5fabde1"
      },
      "outputs": [
        {
          "data": {
            "text/plain": [
              "[<matplotlib.lines.Line2D at 0x7f8377f0ff90>]"
            ]
          },
          "execution_count": 31,
          "metadata": {},
          "output_type": "execute_result"
        },
        {
          "data": {
            "image/png": "[encoded data removed]",
            "text/plain": [
              "<Figure size 432x288 with 1 Axes>"
            ]
          },
          "metadata": {
            "needs_background": "light"
          },
          "output_type": "display_data"
        }
      ],
      "source": [
        "plt.xlabel('K')\n",
        "plt.ylabel('Within-Cluster-Sum of Squared Errors (WSS)')\n",
        "plt.plot(K,wss)"
      ]
    },
    {
      "cell_type": "markdown",
      "metadata": {
        "id": "HUPTYzSfbhUy"
      },
      "source": [
        "# **SILHOUETTE**"
      ]
    },
    {
      "cell_type": "code",
      "execution_count": null,
      "metadata": {
        "colab": {
          "base_uri": "https://localhost:8080/"
        },
        "id": "j1lmthDXbd-n",
        "outputId": "e1a7b7f9-044a-424d-9e37-27093e15caa8"
      },
      "outputs": [
        {
          "name": "stdout",
          "output_type": "stream",
          "text": [
            "Silhouette score for k(clusters) = 2 is 0.6718759530934679\n",
            "Silhouette score for k(clusters) = 3 is 0.5450504758667934\n",
            "Silhouette score for k(clusters) = 4 is 0.5703576213754906\n",
            "Silhouette score for k(clusters) = 5 is 0.6264428953838189\n",
            "Silhouette score for k(clusters) = 6 is 0.6439854080081634\n",
            "Silhouette score for k(clusters) = 7 is 0.6406143278298057\n",
            "Silhouette score for k(clusters) = 8 is 0.6090472660661191\n",
            "Silhouette score for k(clusters) = 9 is 0.6075457474546933\n",
            "Silhouette score for k(clusters) = 10 is 0.6021478649253892\n",
            "Silhouette score for k(clusters) = 11 is 0.5938231948525663\n",
            "Silhouette score for k(clusters) = 12 is 0.5737169952202319\n"
          ]
        }
      ],
      "source": [
        "import sklearn.cluster as cluster\n",
        "import sklearn.metrics as metrics\n",
        "for i in range(2,13):\n",
        " labels=cluster.KMeans(n_clusters=i,random_state=200).fit(df_scale).labels_\n",
        " print (\"Silhouette score for k(clusters) = \"+str(i)+\" is \"\n",
        " +str(metrics.silhouette_score(df_scale,labels,metric=\"euclidean\",sample_size=1000,random_state=200)))"
      ]
    },
    {
      "cell_type": "code",
      "execution_count": null,
      "metadata": {
        "id": "nwLccAYHcF8n"
      },
      "outputs": [],
      "source": [
        "# We will use 2 Variables for this example\n",
        "kmeans = cluster.KMeans(n_clusters=5 ,init=\"k-means++\")\n",
        "kmeans = kmeans.fit(df[['DO','pH']])"
      ]
    },
    {
      "cell_type": "code",
      "execution_count": null,
      "metadata": {
        "colab": {
          "base_uri": "https://localhost:8080/",
          "height": 296
        },
        "id": "8hKAq_GEcUgs",
        "outputId": "3c6e29f3-ee69-4918-e535-6b75575c6627"
      },
      "outputs": [
        {
          "data": {
            "text/plain": [
              "<matplotlib.axes._subplots.AxesSubplot at 0x7f8377ecc790>"
            ]
          },
          "execution_count": 34,
          "metadata": {},
          "output_type": "execute_result"
        },
        {
          "data": {
            "image/png": "[encoded data removed]",
            "text/plain": [
              "<Figure size 432x288 with 1 Axes>"
            ]
          },
          "metadata": {
            "needs_background": "light"
          },
          "output_type": "display_data"
        }
      ],
      "source": [
        "df['Clusters'] = kmeans.labels_\n",
        "\n",
        "sns.scatterplot(x=\"DO\", y=\"pH\",hue = 'Clusters',data=df,palette='viridis')"
      ]
    },
    {
      "cell_type": "markdown",
      "metadata": {
        "id": "PvkmDVOYc0R2"
      },
      "source": [
        "##**K  Means Clustering in Python Sklearn with Principal Component**"
      ]
    },
    {
      "cell_type": "code",
      "execution_count": null,
      "metadata": {
        "colab": {
          "base_uri": "https://localhost:8080/",
          "height": 206
        },
        "id": "SCKYLCNqdSsP",
        "outputId": "edee94f6-ef95-40f7-a039-dd3a8d313469"
      },
      "outputs": [
        {
          "data": {
            "text/html": [
              "\n",
              "  <div id=\"df-a44f45d2-161b-4c94-824e-d2569e211c5d\">\n",
              "    <div class=\"colab-df-container\">\n",
              "      <div>\n",
              "<style scoped>\n",
              "    .dataframe tbody tr th:only-of-type {\n",
              "        vertical-align: middle;\n",
              "    }\n",
              "\n",
              "    .dataframe tbody tr th {\n",
              "        vertical-align: top;\n",
              "    }\n",
              "\n",
              "    .dataframe thead th {\n",
              "        text-align: right;\n",
              "    }\n",
              "</style>\n",
              "<table border=\"1\" class=\"dataframe\">\n",
              "  <thead>\n",
              "    <tr style=\"text-align: right;\">\n",
              "      <th></th>\n",
              "      <th>Cond</th>\n",
              "      <th>DO</th>\n",
              "      <th>pH</th>\n",
              "    </tr>\n",
              "  </thead>\n",
              "  <tbody>\n",
              "    <tr>\n",
              "      <th>0</th>\n",
              "      <td>0.012302</td>\n",
              "      <td>0.194808</td>\n",
              "      <td>0.970183</td>\n",
              "    </tr>\n",
              "    <tr>\n",
              "      <th>1</th>\n",
              "      <td>0.007747</td>\n",
              "      <td>0.195343</td>\n",
              "      <td>0.909597</td>\n",
              "    </tr>\n",
              "    <tr>\n",
              "      <th>2</th>\n",
              "      <td>0.016327</td>\n",
              "      <td>0.194224</td>\n",
              "      <td>0.889928</td>\n",
              "    </tr>\n",
              "    <tr>\n",
              "      <th>3</th>\n",
              "      <td>0.016366</td>\n",
              "      <td>0.194110</td>\n",
              "      <td>0.823975</td>\n",
              "    </tr>\n",
              "    <tr>\n",
              "      <th>4</th>\n",
              "      <td>0.016471</td>\n",
              "      <td>0.194031</td>\n",
              "      <td>0.902091</td>\n",
              "    </tr>\n",
              "  </tbody>\n",
              "</table>\n",
              "</div>\n",
              "      <button class=\"colab-df-convert\" onclick=\"convertToInteractive('df-a44f45d2-161b-4c94-824e-d2569e211c5d')\"\n",
              "              title=\"Convert this dataframe to an interactive table.\"\n",
              "              style=\"display:none;\">\n",
              "        \n",
              "  <svg xmlns=\"http://www.w3.org/2000/svg\" height=\"24px\"viewBox=\"0 0 24 24\"\n",
              "       width=\"24px\">\n",
              "    <path d=\"M0 0h24v24H0V0z\" fill=\"none\"/>\n",
              "    <path d=\"M18.56 5.44l.94 2.06.94-2.06 2.06-.94-2.06-.94-.94-2.06-.94 2.06-2.06.94zm-11 1L8.5 8.5l.94-2.06 2.06-.94-2.06-.94L8.5 2.5l-.94 2.06-2.06.94zm10 10l.94 2.06.94-2.06 2.06-.94-2.06-.94-.94-2.06-.94 2.06-2.06.94z\"/><path d=\"M17.41 7.96l-1.37-1.37c-.4-.4-.92-.59-1.43-.59-.52 0-1.04.2-1.43.59L10.3 9.45l-7.72 7.72c-.78.78-.78 2.05 0 2.83L4 21.41c.39.39.9.59 1.41.59.51 0 1.02-.2 1.41-.59l7.78-7.78 2.81-2.81c.8-.78.8-2.07 0-2.86zM5.41 20L4 18.59l7.72-7.72 1.47 1.35L5.41 20z\"/>\n",
              "  </svg>\n",
              "      </button>\n",
              "      \n",
              "  <style>\n",
              "    .colab-df-container {\n",
              "      display:flex;\n",
              "      flex-wrap:wrap;\n",
              "      gap: 12px;\n",
              "    }\n",
              "\n",
              "    .colab-df-convert {\n",
              "      background-color: #E8F0FE;\n",
              "      border: none;\n",
              "      border-radius: 50%;\n",
              "      cursor: pointer;\n",
              "      display: none;\n",
              "      fill: #1967D2;\n",
              "      height: 32px;\n",
              "      padding: 0 0 0 0;\n",
              "      width: 32px;\n",
              "    }\n",
              "\n",
              "    .colab-df-convert:hover {\n",
              "      background-color: #E2EBFA;\n",
              "      box-shadow: 0px 1px 2px rgba(60, 64, 67, 0.3), 0px 1px 3px 1px rgba(60, 64, 67, 0.15);\n",
              "      fill: #174EA6;\n",
              "    }\n",
              "\n",
              "    [theme=dark] .colab-df-convert {\n",
              "      background-color: #3B4455;\n",
              "      fill: #D2E3FC;\n",
              "    }\n",
              "\n",
              "    [theme=dark] .colab-df-convert:hover {\n",
              "      background-color: #434B5C;\n",
              "      box-shadow: 0px 1px 3px 1px rgba(0, 0, 0, 0.15);\n",
              "      filter: drop-shadow(0px 1px 2px rgba(0, 0, 0, 0.3));\n",
              "      fill: #FFFFFF;\n",
              "    }\n",
              "  </style>\n",
              "\n",
              "      <script>\n",
              "        const buttonEl =\n",
              "          document.querySelector('#df-a44f45d2-161b-4c94-824e-d2569e211c5d button.colab-df-convert');\n",
              "        buttonEl.style.display =\n",
              "          google.colab.kernel.accessAllowed ? 'block' : 'none';\n",
              "\n",
              "        async function convertToInteractive(key) {\n",
              "          const element = document.querySelector('#df-a44f45d2-161b-4c94-824e-d2569e211c5d');\n",
              "          const dataTable =\n",
              "            await google.colab.kernel.invokeFunction('convertToInteractive',\n",
              "                                                     [key], {});\n",
              "          if (!dataTable) return;\n",
              "\n",
              "          const docLinkHtml = 'Like what you see? Visit the ' +\n",
              "            '<a target=\"_blank\" href=https://colab.research.google.com/notebooks/data_table.ipynb>data table notebook</a>'\n",
              "            + ' to learn more about interactive tables.';\n",
              "          element.innerHTML = '';\n",
              "          dataTable['output_type'] = 'display_data';\n",
              "          await google.colab.output.renderOutput(dataTable, element);\n",
              "          const docLink = document.createElement('div');\n",
              "          docLink.innerHTML = docLinkHtml;\n",
              "          element.appendChild(docLink);\n",
              "        }\n",
              "      </script>\n",
              "    </div>\n",
              "  </div>\n",
              "  "
            ],
            "text/plain": [
              "       Cond        DO        pH\n",
              "0  0.012302  0.194808  0.970183\n",
              "1  0.007747  0.195343  0.909597\n",
              "2  0.016327  0.194224  0.889928\n",
              "3  0.016366  0.194110  0.823975\n",
              "4  0.016471  0.194031  0.902091"
            ]
          },
          "execution_count": 35,
          "metadata": {},
          "output_type": "execute_result"
        }
      ],
      "source": [
        "scaler = MinMaxScaler()\n",
        "\n",
        "scale = scaler.fit_transform(df[['Cond','DO','pH']])\n",
        "\n",
        "df_scale = pd.DataFrame(scale, columns = ['Cond','DO','pH']);\n",
        "df_scale.head(5)"
      ]
    },
    {
      "cell_type": "code",
      "execution_count": null,
      "metadata": {
        "colab": {
          "base_uri": "https://localhost:8080/",
          "height": 206
        },
        "id": "VcjGIgU2ddNX",
        "outputId": "95162f5f-48f6-42bd-d2b7-d600dfd59046"
      },
      "outputs": [
        {
          "data": {
            "text/html": [
              "\n",
              "  <div id=\"df-8f5f34f9-42ce-4d82-bce4-ad5738129518\">\n",
              "    <div class=\"colab-df-container\">\n",
              "      <div>\n",
              "<style scoped>\n",
              "    .dataframe tbody tr th:only-of-type {\n",
              "        vertical-align: middle;\n",
              "    }\n",
              "\n",
              "    .dataframe tbody tr th {\n",
              "        vertical-align: top;\n",
              "    }\n",
              "\n",
              "    .dataframe thead th {\n",
              "        text-align: right;\n",
              "    }\n",
              "</style>\n",
              "<table border=\"1\" class=\"dataframe\">\n",
              "  <thead>\n",
              "    <tr style=\"text-align: right;\">\n",
              "      <th></th>\n",
              "      <th>principal component 1</th>\n",
              "      <th>principal component 2</th>\n",
              "    </tr>\n",
              "  </thead>\n",
              "  <tbody>\n",
              "    <tr>\n",
              "      <th>0</th>\n",
              "      <td>-0.174805</td>\n",
              "      <td>0.680699</td>\n",
              "    </tr>\n",
              "    <tr>\n",
              "      <th>1</th>\n",
              "      <td>-0.202749</td>\n",
              "      <td>0.626834</td>\n",
              "    </tr>\n",
              "    <tr>\n",
              "      <th>2</th>\n",
              "      <td>-0.202656</td>\n",
              "      <td>0.605581</td>\n",
              "    </tr>\n",
              "    <tr>\n",
              "      <th>3</th>\n",
              "      <td>-0.228526</td>\n",
              "      <td>0.545079</td>\n",
              "    </tr>\n",
              "    <tr>\n",
              "      <th>4</th>\n",
              "      <td>-0.197758</td>\n",
              "      <td>0.616701</td>\n",
              "    </tr>\n",
              "  </tbody>\n",
              "</table>\n",
              "</div>\n",
              "      <button class=\"colab-df-convert\" onclick=\"convertToInteractive('df-8f5f34f9-42ce-4d82-bce4-ad5738129518')\"\n",
              "              title=\"Convert this dataframe to an interactive table.\"\n",
              "              style=\"display:none;\">\n",
              "        \n",
              "  <svg xmlns=\"http://www.w3.org/2000/svg\" height=\"24px\"viewBox=\"0 0 24 24\"\n",
              "       width=\"24px\">\n",
              "    <path d=\"M0 0h24v24H0V0z\" fill=\"none\"/>\n",
              "    <path d=\"M18.56 5.44l.94 2.06.94-2.06 2.06-.94-2.06-.94-.94-2.06-.94 2.06-2.06.94zm-11 1L8.5 8.5l.94-2.06 2.06-.94-2.06-.94L8.5 2.5l-.94 2.06-2.06.94zm10 10l.94 2.06.94-2.06 2.06-.94-2.06-.94-.94-2.06-.94 2.06-2.06.94z\"/><path d=\"M17.41 7.96l-1.37-1.37c-.4-.4-.92-.59-1.43-.59-.52 0-1.04.2-1.43.59L10.3 9.45l-7.72 7.72c-.78.78-.78 2.05 0 2.83L4 21.41c.39.39.9.59 1.41.59.51 0 1.02-.2 1.41-.59l7.78-7.78 2.81-2.81c.8-.78.8-2.07 0-2.86zM5.41 20L4 18.59l7.72-7.72 1.47 1.35L5.41 20z\"/>\n",
              "  </svg>\n",
              "      </button>\n",
              "      \n",
              "  <style>\n",
              "    .colab-df-container {\n",
              "      display:flex;\n",
              "      flex-wrap:wrap;\n",
              "      gap: 12px;\n",
              "    }\n",
              "\n",
              "    .colab-df-convert {\n",
              "      background-color: #E8F0FE;\n",
              "      border: none;\n",
              "      border-radius: 50%;\n",
              "      cursor: pointer;\n",
              "      display: none;\n",
              "      fill: #1967D2;\n",
              "      height: 32px;\n",
              "      padding: 0 0 0 0;\n",
              "      width: 32px;\n",
              "    }\n",
              "\n",
              "    .colab-df-convert:hover {\n",
              "      background-color: #E2EBFA;\n",
              "      box-shadow: 0px 1px 2px rgba(60, 64, 67, 0.3), 0px 1px 3px 1px rgba(60, 64, 67, 0.15);\n",
              "      fill: #174EA6;\n",
              "    }\n",
              "\n",
              "    [theme=dark] .colab-df-convert {\n",
              "      background-color: #3B4455;\n",
              "      fill: #D2E3FC;\n",
              "    }\n",
              "\n",
              "    [theme=dark] .colab-df-convert:hover {\n",
              "      background-color: #434B5C;\n",
              "      box-shadow: 0px 1px 3px 1px rgba(0, 0, 0, 0.15);\n",
              "      filter: drop-shadow(0px 1px 2px rgba(0, 0, 0, 0.3));\n",
              "      fill: #FFFFFF;\n",
              "    }\n",
              "  </style>\n",
              "\n",
              "      <script>\n",
              "        const buttonEl =\n",
              "          document.querySelector('#df-8f5f34f9-42ce-4d82-bce4-ad5738129518 button.colab-df-convert');\n",
              "        buttonEl.style.display =\n",
              "          google.colab.kernel.accessAllowed ? 'block' : 'none';\n",
              "\n",
              "        async function convertToInteractive(key) {\n",
              "          const element = document.querySelector('#df-8f5f34f9-42ce-4d82-bce4-ad5738129518');\n",
              "          const dataTable =\n",
              "            await google.colab.kernel.invokeFunction('convertToInteractive',\n",
              "                                                     [key], {});\n",
              "          if (!dataTable) return;\n",
              "\n",
              "          const docLinkHtml = 'Like what you see? Visit the ' +\n",
              "            '<a target=\"_blank\" href=https://colab.research.google.com/notebooks/data_table.ipynb>data table notebook</a>'\n",
              "            + ' to learn more about interactive tables.';\n",
              "          element.innerHTML = '';\n",
              "          dataTable['output_type'] = 'display_data';\n",
              "          await google.colab.output.renderOutput(dataTable, element);\n",
              "          const docLink = document.createElement('div');\n",
              "          docLink.innerHTML = docLinkHtml;\n",
              "          element.appendChild(docLink);\n",
              "        }\n",
              "      </script>\n",
              "    </div>\n",
              "  </div>\n",
              "  "
            ],
            "text/plain": [
              "   principal component 1  principal component 2\n",
              "0              -0.174805               0.680699\n",
              "1              -0.202749               0.626834\n",
              "2              -0.202656               0.605581\n",
              "3              -0.228526               0.545079\n",
              "4              -0.197758               0.616701"
            ]
          },
          "execution_count": 36,
          "metadata": {},
          "output_type": "execute_result"
        }
      ],
      "source": [
        "from sklearn.decomposition import PCA\n",
        "pca = PCA(n_components=2)\n",
        "principalComponents = pca.fit_transform(df_scale)\n",
        "pca_df = pd.DataFrame(data = principalComponents\n",
        "             , columns = ['principal component 1', 'principal component 2'])\n",
        "pca_df.head()"
      ]
    },
    {
      "cell_type": "code",
      "execution_count": null,
      "metadata": {
        "id": "xIlvbV8jdxD0"
      },
      "outputs": [],
      "source": [
        "#ELBOW CURVE\n",
        "K=range(2,12)\n",
        "wss = []\n",
        "for k in K:\n",
        "    kmeans=cluster.KMeans(n_clusters=k)\n",
        "    kmeans=kmeans.fit(pca_df)\n",
        "    wss_iter = kmeans.inertia_\n",
        "    wss.append(wss_iter)"
      ]
    },
    {
      "cell_type": "code",
      "execution_count": null,
      "metadata": {
        "colab": {
          "base_uri": "https://localhost:8080/",
          "height": 297
        },
        "id": "fICugtv_d1Y2",
        "outputId": "64dc757d-7401-4ecc-8f0e-29e50bcee5dd"
      },
      "outputs": [
        {
          "data": {
            "text/plain": [
              "[<matplotlib.lines.Line2D at 0x7f83772b3ed0>]"
            ]
          },
          "execution_count": 38,
          "metadata": {},
          "output_type": "execute_result"
        },
        {
          "data": {
            "image/png": "[encoded data removed]",
            "text/plain": [
              "<Figure size 432x288 with 1 Axes>"
            ]
          },
          "metadata": {
            "needs_background": "light"
          },
          "output_type": "display_data"
        }
      ],
      "source": [
        "plt.xlabel('K')\n",
        "plt.ylabel('Within-Cluster-Sum of Squared Errors (WSS)')\n",
        "plt.plot(K,wss)"
      ]
    },
    {
      "cell_type": "code",
      "execution_count": null,
      "metadata": {
        "colab": {
          "base_uri": "https://localhost:8080/"
        },
        "id": "c4hzgzUvd4t_",
        "outputId": "02391829-5194-4046-c7cf-3f15b61bbad2"
      },
      "outputs": [
        {
          "name": "stdout",
          "output_type": "stream",
          "text": [
            "Silhouette score for k(clusters) = 2 is 0.47382715874445636\n",
            "Silhouette score for k(clusters) = 3 is 0.5624596345871594\n",
            "Silhouette score for k(clusters) = 4 is 0.6015372806356608\n",
            "Silhouette score for k(clusters) = 5 is 0.6596965082937454\n",
            "Silhouette score for k(clusters) = 6 is 0.6571103546413134\n",
            "Silhouette score for k(clusters) = 7 is 0.6670625524582069\n",
            "Silhouette score for k(clusters) = 8 is 0.6814427909791468\n",
            "Silhouette score for k(clusters) = 9 is 0.7060015384529897\n",
            "Silhouette score for k(clusters) = 10 is 0.6871165303236662\n",
            "Silhouette score for k(clusters) = 11 is 0.7010522948679939\n"
          ]
        }
      ],
      "source": [
        "#SILHOUETTE\n",
        "import sklearn.cluster as cluster\n",
        "import sklearn.metrics as metrics\n",
        "for i in range(2,12):\n",
        "    labels=cluster.KMeans(n_clusters=i,random_state=200).fit(pca_df).labels_\n",
        "    print (\"Silhouette score for k(clusters) = \"+str(i)+\" is \"\n",
        "           +str(metrics.silhouette_score(pca_df,labels,metric=\"euclidean\",sample_size=1000,random_state=200)))"
      ]
    },
    {
      "cell_type": "code",
      "execution_count": null,
      "metadata": {
        "id": "CM_Memcpd8Kb"
      },
      "outputs": [],
      "source": [
        "kmeans = cluster.KMeans(n_clusters=5)\n",
        "kmeans = kmeans.fit(pca_df)"
      ]
    },
    {
      "cell_type": "code",
      "execution_count": null,
      "metadata": {
        "colab": {
          "base_uri": "https://localhost:8080/",
          "height": 296
        },
        "id": "rZJqYW5jeABh",
        "outputId": "b5df2fdd-fd71-4cc7-d51e-a7d02d9eba1b"
      },
      "outputs": [
        {
          "data": {
            "text/plain": [
              "<matplotlib.axes._subplots.AxesSubplot at 0x7f8376c6fc50>"
            ]
          },
          "execution_count": 41,
          "metadata": {},
          "output_type": "execute_result"
        },
        {
          "data": {
            "image/png": "[encoded data removed]",
            "text/plain": [
              "<Figure size 432x288 with 1 Axes>"
            ]
          },
          "metadata": {
            "needs_background": "light"
          },
          "output_type": "display_data"
        }
      ],
      "source": [
        "pca_df['Clusters'] = kmeans.labels_\n",
        "\n",
        "sns.scatterplot(x=\"principal component 1\", y=\"principal component 2\",hue = 'Clusters',  data=pca_df,palette='viridis')"
      ]
    },
    {
      "cell_type": "code",
      "execution_count": null,
      "metadata": {
        "colab": {
          "base_uri": "https://localhost:8080/"
        },
        "id": "glRE9cgDeDS8",
        "outputId": "cf74aee4-2020-4ab3-82ee-cb2e1aaf030f"
      },
      "outputs": [
        {
          "name": "stdout",
          "output_type": "stream",
          "text": [
            "              DO         pH       ORP       Cond       Temp  Clusters\n",
            "5325    7.833459  10.312611 -0.337179  609.99770  27.929047         3\n",
            "5327    7.834394  10.310085 -0.336145  609.66010  27.922302         3\n",
            "5329    7.834458  10.302164 -0.335071  609.79755  27.921844         3\n",
            "5331    7.837114  10.299027 -0.334690  609.77720  27.902710         3\n",
            "5333    7.837182  10.295110 -0.333986  609.59310  27.902222         3\n",
            "...          ...        ...       ...        ...        ...       ...\n",
            "104717  8.710382   9.328459  0.113180  508.96872  22.168670         3\n",
            "104719  8.710520   9.348818  0.113258  509.01750  22.167847         3\n",
            "104721  8.710229   9.365550  0.113274  508.96494  22.169586         3\n",
            "104723  8.709351   9.326790  0.113168  509.05353  22.174835         3\n",
            "104725  8.708693   9.330433  0.113102  509.06635  22.178772         3\n",
            "\n",
            "[15191 rows x 6 columns]\n"
          ]
        }
      ],
      "source": [
        "#filter rows of original data\n",
        "filtered_labelA = df[label == 0]\n",
        "\n",
        "print(filtered_labelA)\n",
        "x=pd.DataFrame(filtered_labelA)\n",
        "\n",
        "\n",
        "\n"
      ]
    },
    {
      "cell_type": "code",
      "execution_count": null,
      "metadata": {
        "id": "zyhCO_tZ3hnC"
      },
      "outputs": [],
      "source": [
        "filtered_labelA.to_csv\n",
        "filtered_labelA.to_csv(r'/content/C:\\Users\\91990')\n"
      ]
    },
    {
      "cell_type": "code",
      "execution_count": null,
      "metadata": {
        "colab": {
          "base_uri": "https://localhost:8080/"
        },
        "id": "8u0oyquuffon",
        "outputId": "e1152777-c135-4e31-c879-9920160f3a3a"
      },
      "outputs": [
        {
          "name": "stdout",
          "output_type": "stream",
          "text": [
            "             DO         pH       ORP       Cond       Temp  Clusters\n",
            "117    7.238049  11.747833  0.176767  966.29180  32.516388         0\n",
            "119    7.251792  11.565104  0.175770  968.38904  32.403503         0\n",
            "121    7.250810  11.387913  0.173649  964.13654  32.411560         0\n",
            "123    7.257284  11.173519  0.172297  962.31780  32.358490         0\n",
            "125    7.259904  10.921916  0.170887  960.83850  32.337036         0\n",
            "...         ...        ...       ...        ...        ...       ...\n",
            "90105  9.398720   9.582800  0.100286  764.33010  18.323853         4\n",
            "90107  9.399170   9.523924  0.100342  764.31635  18.321503         4\n",
            "90109  9.398796   9.549918  0.100307  764.38150  18.323456         4\n",
            "90111  9.398550   9.499220  0.100235  764.30390  18.324738         4\n",
            "90113  9.397263   9.470758  0.100112  764.27167  18.331451         4\n",
            "\n",
            "[7918 rows x 6 columns]\n"
          ]
        }
      ],
      "source": [
        "#filter rows of original data\n",
        "filtered_labelC = df[label == 4]\n",
        "print(filtered_labelC)\n",
        "\n"
      ]
    },
    {
      "cell_type": "code",
      "execution_count": null,
      "metadata": {
        "id": "mV9QE2-R-19K"
      },
      "outputs": [],
      "source": [
        "filtered_labelC.to_csv\n",
        "filtered_labelC.to_csv(r'/content/C:\\Users\\91990')"
      ]
    },
    {
      "cell_type": "code",
      "execution_count": null,
      "metadata": {
        "colab": {
          "base_uri": "https://localhost:8080/"
        },
        "id": "6hE5h2gBfueG",
        "outputId": "e1fa6c35-63a7-4fce-ddf8-c833194c2f78"
      },
      "outputs": [
        {
          "name": "stdout",
          "output_type": "stream",
          "text": [
            "             DO         pH       ORP       Cond       Temp  Clusters\n",
            "1      9.494212  13.765934  0.148402  12.954404  17.830261         0\n",
            "3      9.500406  13.337535  0.144504   8.547796  17.798553         0\n",
            "5      9.487448  13.198463  0.134372  16.847918  17.864930         0\n",
            "7      9.486121  12.732116  0.142709  16.884756  17.871735         0\n",
            "9      9.485211  13.284467  0.137524  16.987082  17.876404         0\n",
            "...         ...        ...       ...        ...        ...       ...\n",
            "72069  7.838050   9.031760  0.080309   1.925893  27.895966         1\n",
            "72071  7.836542   9.051056  0.080308   1.924893  27.906830         1\n",
            "72073  7.835411   9.043834  0.080265   1.926031  27.914978         1\n",
            "72075  7.835885   9.070862  0.080249   1.925569  27.911560         1\n",
            "83241  9.880897   7.847601  0.113201   1.835335  15.919769         4\n",
            "\n",
            "[6710 rows x 6 columns]\n"
          ]
        }
      ],
      "source": [
        "#filter rows of original data\n",
        "filtered_labelB = df[label == 2]\n",
        "print(filtered_labelB)\n",
        "\n"
      ]
    },
    {
      "cell_type": "code",
      "execution_count": null,
      "metadata": {
        "id": "zE1PqF5H8YzN"
      },
      "outputs": [],
      "source": [
        "filtered_labelB.to_csv\n",
        "filtered_labelB.to_csv(r'/content/C:\\Users\\91990')"
      ]
    },
    {
      "cell_type": "code",
      "execution_count": null,
      "metadata": {
        "colab": {
          "base_uri": "https://localhost:8080/"
        },
        "id": "A1hT1UwLh_gk",
        "outputId": "4258edf8-2a13-49d1-c295-1331c1522788"
      },
      "outputs": [
        {
          "name": "stdout",
          "output_type": "stream",
          "text": [
            "             DO         pH       ORP       Cond       Temp  Clusters\n",
            "63     7.584811  13.445600  0.086784  395.50380  29.771332         0\n",
            "65     7.580501  13.348319  0.087137  396.89530  29.804169         0\n",
            "67     7.576159  13.645336  0.087287  397.91162  29.837280         0\n",
            "69     7.573815  13.099543  0.087605  398.66500  29.855164         0\n",
            "71     7.571741  13.188828  0.087246  398.54648  29.871002         0\n",
            "...         ...        ...       ...        ...        ...       ...\n",
            "55917  7.973237   9.051841  0.147838  354.55853  26.936737         1\n",
            "55919  7.974110   9.065758  0.147924  354.62850  26.930634         1\n",
            "55921  7.973433   9.049505  0.147890  354.64883  26.935364         1\n",
            "55923  7.973119   9.064565  0.147905  354.65024  26.937561         1\n",
            "55925  7.974237   9.061340  0.147935  353.65665  26.929749         1\n",
            "\n",
            "[17316 rows x 6 columns]\n"
          ]
        }
      ],
      "source": [
        "#filter rows of original data\n",
        "filtered_label2 = df[label == 3]\n",
        "print(filtered_label2)"
      ]
    },
    {
      "cell_type": "code",
      "execution_count": null,
      "metadata": {
        "id": "LZ7ZBESx2Qkb"
      },
      "outputs": [],
      "source": [
        "\n",
        "df.to_csv(r'/content/C:\\Users\\91990')"
      ]
    },
    {
      "cell_type": "code",
      "execution_count": null,
      "metadata": {
        "colab": {
          "base_uri": "https://localhost:8080/"
        },
        "id": "nAlqyWWwjmTW",
        "outputId": "f8db53c4-88e5-47af-b45b-0444417e19c4"
      },
      "outputs": [
        {
          "name": "stdout",
          "output_type": "stream",
          "text": [
            "             DO         pH       ORP       Cond       Temp  Clusters\n",
            "117    7.238049  11.747833  0.176767  966.29180  32.516388         0\n",
            "119    7.251792  11.565104  0.175770  968.38904  32.403503         0\n",
            "121    7.250810  11.387913  0.173649  964.13654  32.411560         0\n",
            "123    7.257284  11.173519  0.172297  962.31780  32.358490         0\n",
            "125    7.259904  10.921916  0.170887  960.83850  32.337036         0\n",
            "...         ...        ...       ...        ...        ...       ...\n",
            "90105  9.398720   9.582800  0.100286  764.33010  18.323853         4\n",
            "90107  9.399170   9.523924  0.100342  764.31635  18.321503         4\n",
            "90109  9.398796   9.549918  0.100307  764.38150  18.323456         4\n",
            "90111  9.398550   9.499220  0.100235  764.30390  18.324738         4\n",
            "90113  9.397263   9.470758  0.100112  764.27167  18.331451         4\n",
            "\n",
            "[7918 rows x 6 columns]\n"
          ]
        }
      ],
      "source": [
        "#filter rows of original data\n",
        "filtered_labelG = df[label == 4]\n",
        "print(filtered_labelG)"
      ]
    },
    {
      "cell_type": "code",
      "execution_count": null,
      "metadata": {
        "id": "Em7GrnIBxhpp"
      },
      "outputs": [],
      "source": [
        "#Converting the cluster data into CSV\n",
        "filtered_labelG.to_csv\n",
        "filtered_labelG.to_csv(r'/content/C:\\Users\\91990')"
      ]
    },
    {
      "cell_type": "code",
      "execution_count": null,
      "metadata": {
        "colab": {
          "base_uri": "https://localhost:8080/"
        },
        "id": "R0YhOqLxjsSa",
        "outputId": "da0a41c7-584d-4989-f80a-8241fa1b0b1e"
      },
      "outputs": [
        {
          "name": "stdout",
          "output_type": "stream",
          "text": [
            "Looking in indexes: https://pypi.org/simple, https://us-python.pkg.dev/colab-wheels/public/simple/\n",
            "Collecting pyspark\n",
            "  Downloading pyspark-3.3.1.tar.gz (281.4 MB)\n",
            "\u001b[K     |████████████████████████████████| 281.4 MB 46 kB/s \n",
            "\u001b[?25hCollecting py4j==0.10.9.5\n",
            "  Downloading py4j-0.10.9.5-py2.py3-none-any.whl (199 kB)\n",
            "\u001b[K     |████████████████████████████████| 199 kB 53.9 MB/s \n",
            "\u001b[?25hBuilding wheels for collected packages: pyspark\n",
            "  Building wheel for pyspark (setup.py) ... \u001b[?25l\u001b[?25hdone\n",
            "  Created wheel for pyspark: filename=pyspark-3.3.1-py2.py3-none-any.whl size=281845513 sha256=bedb01f1683f1d8d57303284b4ac8753628a3cd8bdbf57396a77b44b2144a9b9\n",
            "  Stored in directory: /root/.cache/pip/wheels/42/59/f5/79a5bf931714dcd201b26025347785f087370a10a3329a899c\n",
            "Successfully built pyspark\n",
            "Installing collected packages: py4j, pyspark\n",
            "Successfully installed py4j-0.10.9.5 pyspark-3.3.1\n"
          ]
        }
      ],
      "source": [
        "!pip install pyspark"
      ]
    },
    {
      "cell_type": "code",
      "execution_count": null,
      "metadata": {
        "id": "JZOrJ3fGpFFk"
      },
      "outputs": [],
      "source": [
        "data.to_csv(r'C:\\Users\\91990\\Downloads')"
      ]
    },
    {
      "cell_type": "code",
      "execution_count": null,
      "metadata": {
        "colab": {
          "base_uri": "https://localhost:8080/"
        },
        "id": "bmlh2fZopThy",
        "outputId": "de42de4b-8ab3-4b7a-fd09-ae611e89e2e8"
      },
      "outputs": [
        {
          "name": "stdout",
          "output_type": "stream",
          "text": [
            "Looking in indexes: https://pypi.org/simple, https://us-python.pkg.dev/colab-wheels/public/simple/\n",
            "Collecting pyspark\n",
            "  Downloading pyspark-3.3.1.tar.gz (281.4 MB)\n",
            "\u001b[K     |████████████████████████████████| 281.4 MB 33 kB/s \n",
            "\u001b[?25hCollecting py4j==0.10.9.5\n",
            "  Downloading py4j-0.10.9.5-py2.py3-none-any.whl (199 kB)\n",
            "\u001b[K     |████████████████████████████████| 199 kB 63.6 MB/s \n",
            "\u001b[?25hBuilding wheels for collected packages: pyspark\n",
            "  Building wheel for pyspark (setup.py) ... \u001b[?25l\u001b[?25hdone\n",
            "  Created wheel for pyspark: filename=pyspark-3.3.1-py2.py3-none-any.whl size=281845513 sha256=bcb84857b9152f4b8027858fb27c6dc6580e7dc340b9dd64efae1b5df76dcaf5\n",
            "  Stored in directory: /root/.cache/pip/wheels/42/59/f5/79a5bf931714dcd201b26025347785f087370a10a3329a899c\n",
            "Successfully built pyspark\n",
            "Installing collected packages: py4j, pyspark\n",
            "Successfully installed py4j-0.10.9.5 pyspark-3.3.1\n"
          ]
        }
      ],
      "source": [
        "!pip install pyspark"
      ]
    },
    {
      "cell_type": "code",
      "execution_count": null,
      "metadata": {
        "colab": {
          "base_uri": "https://localhost:8080/"
        },
        "id": "JTSODr2mKfX3",
        "outputId": "e9c03403-9825-4894-cbec-19c34ecb758c"
      },
      "outputs": [
        {
          "name": "stdout",
          "output_type": "stream",
          "text": [
            "Looking in indexes: https://pypi.org/simple, https://us-python.pkg.dev/colab-wheels/public/simple/\n",
            "Collecting findspark\n",
            "  Downloading findspark-2.0.1-py2.py3-none-any.whl (4.4 kB)\n",
            "Installing collected packages: findspark\n",
            "Successfully installed findspark-2.0.1\n"
          ]
        }
      ],
      "source": [
        "!pip install findspark\n"
      ]
    },
    {
      "cell_type": "code",
      "execution_count": null,
      "metadata": {
        "id": "1G88p6KOKOq-"
      },
      "outputs": [],
      "source": [
        "import findspark\n",
        "findspark.init()\n",
        "\n",
        "import pyspark\n",
        "\n",
        "from pyspark import SparkContext\n",
        "sc = SparkContext.getOrCreate()\n",
        "\n",
        "#initializasing SparkSession for creating Spark DataFrame\n",
        "from pyspark.sql import SparkSession\n",
        "spark = SparkSession.builder.getOrCreate()"
      ]
    },
    {
      "cell_type": "code",
      "execution_count": null,
      "metadata": {
        "id": "QHES0wquKdI5"
      },
      "outputs": [],
      "source": [
        "# Data Frame spark profiling \n",
        "from pyspark.sql.types import IntegerType, StringType, DoubleType, ShortType, DecimalType\n",
        "import pyspark.sql.functions as func\n",
        "from pyspark.sql.functions import isnull\n",
        "from pyspark.sql.functions import isnan, when, count, col, round\n",
        "from pyspark.sql.functions import mean\n",
        "from pyspark.sql.types import Row\n",
        "import matplotlib.pyplot as plt\n",
        "from pyspark.sql.functions import udf\n",
        "\n",
        "\n",
        "# Pandas DF operation\n",
        "import pandas as pd\n",
        "import numpy as np\n",
        "import matplotlib.pyplot as plt\n",
        "import seaborn as sns\n",
        "from numpy import array\n",
        "\n",
        "# Modeling + Evaluation\n",
        "from pyspark.ml.feature import VectorAssembler, VectorIndexer, OneHotEncoder, StringIndexer\n",
        "from pyspark.sql.functions import when\n",
        "from pyspark.sql import functions as F\n",
        "from pyspark.sql.functions import avg\n",
        "from pyspark.ml import Pipeline\n",
        "from pyspark.ml.clustering import KMeans\n",
        "from pyspark.ml.feature import StandardScaler\n",
        "from mpl_toolkits.mplot3d import Axes3D"
      ]
    },
    {
      "cell_type": "code",
      "execution_count": null,
      "metadata": {
        "id": "sZqScfvNKsHJ"
      },
      "outputs": [],
      "source": [
        "#Initializing File\n",
        "file_type='csv'\n",
        "path=r'/content/Without blanks sangam.csv'\n"
      ]
    },
    {
      "cell_type": "code",
      "execution_count": null,
      "metadata": {
        "id": "I9hRYtCJLFi0"
      },
      "outputs": [],
      "source": [
        "def load_data(file_type):\n",
        "    \"\"\"input type of file \"text\" or \"parquet\" and Return pyspark dataframe\"\"\"\n",
        "    if file_type ==\"csv\": # use text as file type input\n",
        "        df = spark.read.option(\"header\", \"true\") \\\n",
        "        .option(\"inferSchema\", \"true\") \\\n",
        "        .csv(path) \n",
        "    else:  \n",
        "        df= spark.read.parquet(\"example.parquet\") #path file that you want import\n",
        "    return df"
      ]
    },
    {
      "cell_type": "code",
      "execution_count": null,
      "metadata": {
        "colab": {
          "base_uri": "https://localhost:8080/"
        },
        "id": "K_KyySYJ_Pgt",
        "outputId": "1390c811-081b-45c9-cec8-44991ed01809"
      },
      "outputs": [
        {
          "name": "stdout",
          "output_type": "stream",
          "text": [
            "cat_cols: ['Status']\n",
            "num_cols: ['_c0', 'DO', 'pH', 'ORP', 'Cond', 'Temp', 'WQI']\n"
          ]
        }
      ],
      "source": [
        "#Categorical and numerical variable\n",
        "\n",
        "cat_cols = [item[0] for item in df.dtypes if item[1].startswith('string')] #just will select string data type\n",
        "print(\"cat_cols:\", cat_cols)\n",
        "num_cols = [item[0] for item in df.dtypes if item[1].startswith('int') | item[1].startswith('double')] #just will select integer or double data type\n",
        "print(\"num_cols:\", num_cols)\n"
      ]
    },
    {
      "cell_type": "code",
      "execution_count": null,
      "metadata": {
        "id": "UgZxP16JLZ-0"
      },
      "outputs": [],
      "source": [
        "df = load_data(file_type)"
      ]
    },
    {
      "cell_type": "code",
      "execution_count": null,
      "metadata": {
        "colab": {
          "base_uri": "https://localhost:8080/"
        },
        "id": "zchgr0x9LeC7",
        "outputId": "cba4829f-6eaf-4e3a-82fa-271bb3e063e9"
      },
      "outputs": [
        {
          "name": "stdout",
          "output_type": "stream",
          "text": [
            "Help on function load_data in module __main__:\n",
            "\n",
            "load_data(file_type)\n",
            "    input type of file \"text\" or \"parquet\" and Return pyspark dataframe\n",
            "\n"
          ]
        }
      ],
      "source": [
        "help(load_data)"
      ]
    },
    {
      "cell_type": "code",
      "execution_count": null,
      "metadata": {
        "colab": {
          "base_uri": "https://localhost:8080/"
        },
        "id": "k30odVeTLnrr",
        "outputId": "e46c3830-6cf3-48e7-ab84-b3190d004290"
      },
      "outputs": [
        {
          "data": {
            "text/plain": [
              "pyspark.sql.dataframe.DataFrame"
            ]
          },
          "execution_count": 61,
          "metadata": {},
          "output_type": "execute_result"
        }
      ],
      "source": [
        "type(df)"
      ]
    },
    {
      "cell_type": "code",
      "execution_count": null,
      "metadata": {
        "colab": {
          "base_uri": "https://localhost:8080/"
        },
        "id": "tRUxKAdkLqpS",
        "outputId": "b8b61fcf-4a2a-4f3c-c9d0-1dcc02be6c06"
      },
      "outputs": [
        {
          "name": "stdout",
          "output_type": "stream",
          "text": [
            "+---+-----------+-----------+----------+---------+---------+-----------+---------+\n",
            "|_c0|         DO|         pH|       ORP|     Cond|     Temp|        WQI|   Status|\n",
            "+---+-----------+-----------+----------+---------+---------+-----------+---------+\n",
            "|  0|9.494212038| 13.7659336|0.14840198|12.954404|17.830261|54.81198761|Very Poor|\n",
            "|  1|9.500406233|13.33753478| 0.1445036| 8.547796|17.798553|51.48805044|Very Poor|\n",
            "|  2|9.487447744|13.19846317|0.13437152|16.847918| 17.86493| 50.4207018|Very Poor|\n",
            "|  3|9.486121036|12.73211614|0.14270854|16.884756|17.871735|46.90164604|Very Poor|\n",
            "|  4|9.485210959|13.28446675|0.13752413|16.987082|17.876404|51.10465478|Very Poor|\n",
            "|  5|  18.413895|13.10757162| 0.1368258| 20.01182|17.872925|47.70424932|Very Poor|\n",
            "|  6|  17.560917|13.27273418| 0.1375587|16.825544|17.889435|48.97223949|Very Poor|\n",
            "|  7|  17.419922|13.38059122| 0.1378684|16.851637|17.892822|49.79933461|Very Poor|\n",
            "|  8|  17.972828|13.54942696|0.13840961|17.008675|17.894867|51.09434103|Very Poor|\n",
            "|  9|9.480543951|13.04977255|0.14549327|16.815346| 17.90036|49.36974088|Very Poor|\n",
            "| 10|9.479343582|13.20212486|0.15039897|16.794378|17.906525|50.56674676|Very Poor|\n",
            "| 11|  16.906841|13.54337876|0.13906145|16.893757|17.901947|51.05154814|Very Poor|\n",
            "| 12|  16.089485| 13.7636048|0.13977051|16.870562| 17.91803|52.74075045|Very Poor|\n",
            "| 13|  17.893639|13.06831555|0.14504504|21.078703|17.868164|47.44783018|Very Poor|\n",
            "| 14|  10.478089|12.93526545|0.14376736| 19.73823|17.883911|46.42277212|Very Poor|\n",
            "+---+-----------+-----------+----------+---------+---------+-----------+---------+\n",
            "only showing top 15 rows\n",
            "\n"
          ]
        }
      ],
      "source": [
        "#show 15 observation in DataFrame\n",
        "df.show(15)"
      ]
    },
    {
      "cell_type": "code",
      "execution_count": null,
      "metadata": {
        "colab": {
          "base_uri": "https://localhost:8080/"
        },
        "id": "wlLu8X-ZLuho",
        "outputId": "a84dd9ce-a9bf-4151-d6cd-b034a784590e"
      },
      "outputs": [
        {
          "name": "stdout",
          "output_type": "stream",
          "text": [
            "root\n",
            " |-- _c0: integer (nullable = true)\n",
            " |-- DO: double (nullable = true)\n",
            " |-- pH: double (nullable = true)\n",
            " |-- ORP: double (nullable = true)\n",
            " |-- Cond: double (nullable = true)\n",
            " |-- Temp: double (nullable = true)\n",
            " |-- WQI: double (nullable = true)\n",
            " |-- Status: string (nullable = true)\n",
            "\n"
          ]
        }
      ],
      "source": [
        "#Print Schema\n",
        "df.printSchema()"
      ]
    },
    {
      "cell_type": "code",
      "execution_count": null,
      "metadata": {
        "colab": {
          "base_uri": "https://localhost:8080/"
        },
        "id": "dXwTfNInALD1",
        "outputId": "c7893422-8f30-4c3f-9499-59b156896a6c"
      },
      "outputs": [
        {
          "name": "stdout",
          "output_type": "stream",
          "text": [
            "+-------+------------------+------------------+------------------+-------------------+-----------------+-----------------+------------------+\n",
            "|summary|               _c0|                DO|                pH|                ORP|             Cond|             Temp|               WQI|\n",
            "+-------+------------------+------------------+------------------+-------------------+-----------------+-----------------+------------------+\n",
            "|  count|             52363|             52363|             52363|              52363|            52363|            52363|             52363|\n",
            "|   mean|           26181.0| 8.238113838060725| 9.750116184713496|0.09928015394478884|438.3997139079408|25.33720411401169|28.053175085829764|\n",
            "| stddev|15116.040409666371|0.5416525879412247|1.2431076866254243|0.07432566618995483| 231.067768005881|3.121521863803321|10.966712551670044|\n",
            "|    min|                 0|       7.238049244|         6.9059267|        -0.35393834|        1.0537734|        15.919769|       5.135598853|\n",
            "|    max|             52362|          18.81951|         13.976763|         0.23607922|        968.38904|        32.516388|       63.76842338|\n",
            "+-------+------------------+------------------+------------------+-------------------+-----------------+-----------------+------------------+\n",
            "\n"
          ]
        }
      ],
      "source": [
        "# Check summary statistic of numerical columns\n",
        "df.select(num_cols).describe().show()"
      ]
    },
    {
      "cell_type": "code",
      "execution_count": null,
      "metadata": {
        "id": "JPpamkvNLxzp"
      },
      "outputs": [],
      "source": [
        "# convert spark dataframe to pandas for visualization\n",
        "df_pd2=df.toPandas()"
      ]
    },
    {
      "cell_type": "code",
      "execution_count": null,
      "metadata": {
        "id": "WpNpW6mX8Tg4"
      },
      "outputs": [],
      "source": [
        "#convert to pandas DataFrame\n",
        "df_pd=df.toPandas()"
      ]
    },
    {
      "cell_type": "code",
      "execution_count": null,
      "metadata": {
        "colab": {
          "base_uri": "https://localhost:8080/",
          "height": 309
        },
        "id": "CxvK6VfO7tg1",
        "outputId": "25bd07d8-b83f-4a43-eea7-9467bf27a079"
      },
      "outputs": [
        {
          "data": {
            "image/png": "[encoded data removed]",
            "text/plain": [
              "<Figure size 1440x720 with 1 Axes>"
            ]
          },
          "metadata": {
            "needs_background": "light"
          },
          "output_type": "display_data"
        }
      ],
      "source": [
        "#Barchart for categorical variable\n",
        "plt.figure(figsize=(20,10))\n",
        "plt.subplot(221)\n",
        "sns.countplot(x='Status', data=df_pd2, order=df_pd['Status'].value_counts().index)\n",
        "plt.show()"
      ]
    },
    {
      "cell_type": "code",
      "execution_count": null,
      "metadata": {
        "colab": {
          "base_uri": "https://localhost:8080/",
          "height": 334
        },
        "id": "WgtclKUU8dSU",
        "outputId": "a2b7c721-42f4-4170-f90f-19985244c6ff"
      },
      "outputs": [
        {
          "name": "stderr",
          "output_type": "stream",
          "text": [
            "/usr/local/lib/python3.7/dist-packages/seaborn/distributions.py:2619: FutureWarning: `distplot` is a deprecated function and will be removed in a future version. Please adapt your code to use either `displot` (a figure-level function with similar flexibility) or `histplot` (an axes-level function for histograms).\n",
            "  warnings.warn(msg, FutureWarning)\n"
          ]
        },
        {
          "data": {
            "image/png": "[encoded data removed]",
            "text/plain": [
              "<Figure size 432x288 with 1 Axes>"
            ]
          },
          "metadata": {
            "needs_background": "light"
          },
          "output_type": "display_data"
        }
      ],
      "source": [
        "#density plot Age\n",
        "sns.distplot(df_pd2['WQI'])\n",
        "plt.show()"
      ]
    },
    {
      "cell_type": "code",
      "execution_count": null,
      "metadata": {
        "colab": {
          "base_uri": "https://localhost:8080/",
          "height": 334
        },
        "id": "DlYD432k8ueP",
        "outputId": "d5e2b255-8e73-4257-a231-21cfb85b6336"
      },
      "outputs": [
        {
          "name": "stderr",
          "output_type": "stream",
          "text": [
            "/usr/local/lib/python3.7/dist-packages/seaborn/distributions.py:2619: FutureWarning: `distplot` is a deprecated function and will be removed in a future version. Please adapt your code to use either `displot` (a figure-level function with similar flexibility) or `histplot` (an axes-level function for histograms).\n",
            "  warnings.warn(msg, FutureWarning)\n"
          ]
        },
        {
          "data": {
            "image/png": "[encoded data removed]",
            "text/plain": [
              "<Figure size 432x288 with 1 Axes>"
            ]
          },
          "metadata": {
            "needs_background": "light"
          },
          "output_type": "display_data"
        }
      ],
      "source": [
        "#density plot Annual Income\n",
        "sns.distplot(df_pd2['DO'])\n",
        "plt.show()"
      ]
    },
    {
      "cell_type": "code",
      "execution_count": null,
      "metadata": {
        "colab": {
          "base_uri": "https://localhost:8080/",
          "height": 334
        },
        "id": "14mtPhYA8yQ-",
        "outputId": "84bb944f-d5af-4b8d-a49b-72d6871958df"
      },
      "outputs": [
        {
          "name": "stderr",
          "output_type": "stream",
          "text": [
            "/usr/local/lib/python3.7/dist-packages/seaborn/distributions.py:2619: FutureWarning: `distplot` is a deprecated function and will be removed in a future version. Please adapt your code to use either `displot` (a figure-level function with similar flexibility) or `histplot` (an axes-level function for histograms).\n",
            "  warnings.warn(msg, FutureWarning)\n"
          ]
        },
        {
          "data": {
            "image/png": "[encoded data removed]",
            "text/plain": [
              "<Figure size 432x288 with 1 Axes>"
            ]
          },
          "metadata": {
            "needs_background": "light"
          },
          "output_type": "display_data"
        }
      ],
      "source": [
        "#density plot Annual Income\n",
        "sns.distplot(df_pd2['ORP'])\n",
        "plt.show()"
      ]
    },
    {
      "cell_type": "code",
      "execution_count": null,
      "metadata": {
        "colab": {
          "base_uri": "https://localhost:8080/",
          "height": 334
        },
        "id": "BWE8xsn282CZ",
        "outputId": "b9427482-acbd-4baf-bfd5-353408143f01"
      },
      "outputs": [
        {
          "name": "stderr",
          "output_type": "stream",
          "text": [
            "/usr/local/lib/python3.7/dist-packages/seaborn/distributions.py:2619: FutureWarning: `distplot` is a deprecated function and will be removed in a future version. Please adapt your code to use either `displot` (a figure-level function with similar flexibility) or `histplot` (an axes-level function for histograms).\n",
            "  warnings.warn(msg, FutureWarning)\n"
          ]
        },
        {
          "data": {
            "image/png": "[encoded data removed]",
            "text/plain": [
              "<Figure size 432x288 with 1 Axes>"
            ]
          },
          "metadata": {
            "needs_background": "light"
          },
          "output_type": "display_data"
        }
      ],
      "source": [
        "#density plot Annual Income\n",
        "sns.distplot(df_pd2['pH'])\n",
        "plt.show()"
      ]
    },
    {
      "cell_type": "code",
      "execution_count": null,
      "metadata": {
        "colab": {
          "base_uri": "https://localhost:8080/",
          "height": 334
        },
        "id": "FFktYfYi84uO",
        "outputId": "2ad6ab3e-bc89-42e1-f62e-429ef8a445a1"
      },
      "outputs": [
        {
          "name": "stderr",
          "output_type": "stream",
          "text": [
            "/usr/local/lib/python3.7/dist-packages/seaborn/distributions.py:2619: FutureWarning: `distplot` is a deprecated function and will be removed in a future version. Please adapt your code to use either `displot` (a figure-level function with similar flexibility) or `histplot` (an axes-level function for histograms).\n",
            "  warnings.warn(msg, FutureWarning)\n"
          ]
        },
        {
          "data": {
            "image/png": "[encoded data removed]",
            "text/plain": [
              "<Figure size 432x288 with 1 Axes>"
            ]
          },
          "metadata": {
            "needs_background": "light"
          },
          "output_type": "display_data"
        }
      ],
      "source": [
        "#density plot Annual Income\n",
        "sns.distplot(df_pd2['Cond'])\n",
        "plt.show()"
      ]
    },
    {
      "cell_type": "code",
      "execution_count": null,
      "metadata": {
        "colab": {
          "base_uri": "https://localhost:8080/",
          "height": 334
        },
        "id": "yojax9Be87gn",
        "outputId": "e8667a6b-3806-4057-c57d-df3c9be6bb72"
      },
      "outputs": [
        {
          "name": "stderr",
          "output_type": "stream",
          "text": [
            "/usr/local/lib/python3.7/dist-packages/seaborn/distributions.py:2619: FutureWarning: `distplot` is a deprecated function and will be removed in a future version. Please adapt your code to use either `displot` (a figure-level function with similar flexibility) or `histplot` (an axes-level function for histograms).\n",
            "  warnings.warn(msg, FutureWarning)\n"
          ]
        },
        {
          "data": {
            "image/png": "[encoded data removed]",
            "text/plain": [
              "<Figure size 432x288 with 1 Axes>"
            ]
          },
          "metadata": {
            "needs_background": "light"
          },
          "output_type": "display_data"
        }
      ],
      "source": [
        "#density plot Annual Income\n",
        "sns.distplot(df_pd2['Temp'])\n",
        "plt.show()"
      ]
    },
    {
      "cell_type": "code",
      "execution_count": null,
      "metadata": {
        "colab": {
          "base_uri": "https://localhost:8080/",
          "height": 252
        },
        "id": "bhvTPHr18iYu",
        "outputId": "fea3b2fd-7429-41e3-e5b7-6d1919271251"
      },
      "outputs": [
        {
          "data": {
            "image/png": "[encoded data removed]",
            "text/plain": [
              "<Figure size 432x288 with 1 Axes>"
            ]
          },
          "metadata": {
            "needs_background": "light"
          },
          "output_type": "display_data"
        }
      ],
      "source": [
        "#Check outlier in numerical variable: 'Age'\n",
        "sns.boxplot(y=\"DO\",data=df_pd2)\n",
        "plt.show()"
      ]
    },
    {
      "cell_type": "code",
      "execution_count": null,
      "metadata": {
        "colab": {
          "base_uri": "https://localhost:8080/",
          "height": 252
        },
        "id": "Vp9f_PWe9Dzr",
        "outputId": "33f33d12-ee97-457c-a3ee-03f4a4135617"
      },
      "outputs": [
        {
          "data": {
            "image/png": "[encoded data removed]",
            "text/plain": [
              "<Figure size 432x288 with 1 Axes>"
            ]
          },
          "metadata": {
            "needs_background": "light"
          },
          "output_type": "display_data"
        }
      ],
      "source": [
        "#Check outlier in numerical variable: 'Age'\n",
        "sns.boxplot(y=\"ORP\",data=df_pd2)\n",
        "plt.show()"
      ]
    },
    {
      "cell_type": "code",
      "execution_count": null,
      "metadata": {
        "colab": {
          "base_uri": "https://localhost:8080/",
          "height": 252
        },
        "id": "iOTctVt89rAf",
        "outputId": "246b6d96-38c1-4251-faa0-2faa58fac17b"
      },
      "outputs": [
        {
          "data": {
            "image/png": "[encoded data removed]",
            "text/plain": [
              "<Figure size 432x288 with 1 Axes>"
            ]
          },
          "metadata": {
            "needs_background": "light"
          },
          "output_type": "display_data"
        }
      ],
      "source": [
        "#Check outlier in numerical variable: 'Age'\n",
        "sns.boxplot(y=\"pH\",data=df_pd2)\n",
        "plt.show()"
      ]
    },
    {
      "cell_type": "code",
      "execution_count": null,
      "metadata": {
        "colab": {
          "base_uri": "https://localhost:8080/",
          "height": 252
        },
        "id": "FcFszuzO9xXW",
        "outputId": "f0f17f3f-1254-43d5-d527-ef0d52d5ed9c"
      },
      "outputs": [
        {
          "data": {
            "image/png": "[encoded data removed]",
            "text/plain": [
              "<Figure size 432x288 with 1 Axes>"
            ]
          },
          "metadata": {
            "needs_background": "light"
          },
          "output_type": "display_data"
        }
      ],
      "source": [
        "#Check outlier in numerical variable: 'Age'\n",
        "sns.boxplot(y=\"Cond\",data=df_pd2)\n",
        "plt.show()"
      ]
    },
    {
      "cell_type": "code",
      "execution_count": null,
      "metadata": {
        "colab": {
          "base_uri": "https://localhost:8080/",
          "height": 252
        },
        "id": "4dwoMVko90eD",
        "outputId": "a530cc89-0cb9-4f42-b715-129406ddd5bd"
      },
      "outputs": [
        {
          "data": {
            "image/png": "[encoded data removed]",
            "text/plain": [
              "<Figure size 432x288 with 1 Axes>"
            ]
          },
          "metadata": {
            "needs_background": "light"
          },
          "output_type": "display_data"
        }
      ],
      "source": [
        "#Check outlier in numerical variable: 'Age'\n",
        "sns.boxplot(y=\"Temp\",data=df_pd2)\n",
        "plt.show()"
      ]
    },
    {
      "cell_type": "code",
      "execution_count": null,
      "metadata": {
        "id": "i2pH0djt92n_"
      },
      "outputs": [],
      "source": [
        "#create quantile dataframe\n",
        "def quantile(e):\n",
        "    \"\"\"Input is dataframe and return new dataframe with value of quantile from numerical columns\"\"\"\n",
        "    percentiles = [0.25, 0.5, 0.75]\n",
        "    quant=spark.createDataFrame(zip(percentiles, *e.approxQuantile(num_cols, percentiles, 0.0)),\n",
        "                               ['percentile']+num_cols) #calculate quantile from pyspark dataframe, 0.0 is relativeError,\n",
        "                                                        #The relative target precision to achieve (>= 0). If set to zero, \n",
        "                                                        #the exact quantiles are computed, which could be very expensive\n",
        "                                                        #and aggregate the result with percentiles variable, \n",
        "                                                        #then create pyspark dataframe\n",
        "    return quant"
      ]
    },
    {
      "cell_type": "code",
      "execution_count": null,
      "metadata": {
        "id": "ksnUhGqB--L2"
      },
      "outputs": [],
      "source": [
        "quantile=quantile(df)"
      ]
    },
    {
      "cell_type": "code",
      "execution_count": null,
      "metadata": {
        "id": "WoE7pcaW_BDW"
      },
      "outputs": [],
      "source": [
        "def upper_value(b,c):\n",
        "    \"\"\"Input is quantile dataframe and name of numerical column and Retrun upper value from the column\"\"\"\n",
        "    q1 = b.select(c).collect()[0][0] #select value of q1 from the column\n",
        "    q2 = b.select(c).collect()[1][0] #select value of q2 from the column\n",
        "    q3 = b.select(c).collect()[2][0] #select value of q3 from the column\n",
        "    IQR=q3-q1  #calculate the value of IQR\n",
        "    upper= q3 + (IQR*1.5)   #calculate the value of upper side\n",
        "    return upper"
      ]
    },
    {
      "cell_type": "code",
      "execution_count": null,
      "metadata": {
        "colab": {
          "base_uri": "https://localhost:8080/"
        },
        "id": "R1hepFPo_Z0J",
        "outputId": "63f2b9e2-1cfb-413d-b178-78151f85d541"
      },
      "outputs": [
        {
          "name": "stdout",
          "output_type": "stream",
          "text": [
            "Help on function upper_value in module __main__:\n",
            "\n",
            "upper_value(b, c)\n",
            "    Input is quantile dataframe and name of numerical column and Retrun upper value from the column\n",
            "\n"
          ]
        }
      ],
      "source": [
        "help(upper_value)"
      ]
    },
    {
      "cell_type": "code",
      "execution_count": null,
      "metadata": {
        "id": "Sa1K9VKu_lwC"
      },
      "outputs": [],
      "source": [
        "def lower_value(b,c):\n",
        "    \"\"\"Input is quantile dataframe and name of numerical column and Retrun lower value from the column\"\"\"\n",
        "    q1 = b.select(c).collect()[0][0] #select value of q1 from the column\n",
        "    q2 = b.select(c).collect()[1][0] #select value of q2 from the column\n",
        "    q3 = b.select(c).collect()[2][0] #select value of q3 from the column\n",
        "    IQR=q3-q1                   #calculate the value of IQR\n",
        "    lower= q1 - (IQR*1.5)       #calculate the value of lower side\n",
        "    return lower"
      ]
    },
    {
      "cell_type": "code",
      "execution_count": null,
      "metadata": {
        "colab": {
          "base_uri": "https://localhost:8080/"
        },
        "id": "jv87Rvhr_piT",
        "outputId": "816dce9e-3f26-4063-c740-99e0ed601ffe"
      },
      "outputs": [
        {
          "name": "stdout",
          "output_type": "stream",
          "text": [
            "Help on function lower_value in module __main__:\n",
            "\n",
            "lower_value(b, c)\n",
            "    Input is quantile dataframe and name of numerical column and Retrun lower value from the column\n",
            "\n"
          ]
        }
      ],
      "source": [
        "help(lower_value)"
      ]
    },
    {
      "cell_type": "code",
      "execution_count": null,
      "metadata": {
        "id": "F2rK4llt_w7X"
      },
      "outputs": [],
      "source": [
        "def replce_outlier_up2(d,col, value):\n",
        "    \"\"\"Input is name of numerical column and it's upper side value\"\"\"\n",
        "    d=d.withColumn(col, F.when(d[col] > value , value).otherwise(d[col]))\n",
        "    return d"
      ]
    },
    {
      "cell_type": "code",
      "execution_count": null,
      "metadata": {
        "id": "iha8BEgZ_0VU"
      },
      "outputs": [],
      "source": [
        "def replce_outlier_low2(d,col, value):\n",
        "    \"\"\"Input is name of numerical column and it's lower side value\"\"\"\n",
        "    d=d.withColumn(col, F.when(d[col] < value , value).otherwise(d[col]))\n",
        "    return d"
      ]
    },
    {
      "cell_type": "code",
      "execution_count": null,
      "metadata": {
        "id": "eZjRJHfg_26r"
      },
      "outputs": [],
      "source": [
        "#call function to calculate lower side and replace value under lower side with value lower side\n",
        "for i in num_cols:\n",
        "    lower=lower_value(quantile,i)\n",
        "    df=replce_outlier_low2(df, i, lower)"
      ]
    },
    {
      "cell_type": "code",
      "execution_count": null,
      "metadata": {
        "colab": {
          "base_uri": "https://localhost:8080/"
        },
        "id": "ocaxuR7u_45M",
        "outputId": "d8e674eb-f7ae-4028-ac47-e5c226f2c0e5"
      },
      "outputs": [
        {
          "data": {
            "text/plain": [
              "pyspark.sql.dataframe.DataFrame"
            ]
          },
          "execution_count": 67,
          "metadata": {},
          "output_type": "execute_result"
        }
      ],
      "source": [
        "#call function to calculate upper side and replace value above upper side with value upper side\n",
        "for x in num_cols:\n",
        "    upper=upper_value(quantile,x)\n",
        "    df=replce_outlier_up2(df, x, upper)\n",
        "type(df)"
      ]
    },
    {
      "cell_type": "code",
      "execution_count": null,
      "metadata": {
        "colab": {
          "base_uri": "https://localhost:8080/"
        },
        "id": "FEoN-7I5_7Fn",
        "outputId": "22f50d77-03b8-4f21-93cf-3f4eb3cf1d63"
      },
      "outputs": [
        {
          "name": "stdout",
          "output_type": "stream",
          "text": [
            "+-------+------------------+------------------+------------------+-------------------+------------------+-----------------+------------------+\n",
            "|summary|               _c0|                DO|                pH|                ORP|              Cond|             Temp|               WQI|\n",
            "+-------+------------------+------------------+------------------+-------------------+------------------+-----------------+------------------+\n",
            "|  count|             52363|             52363|             52363|              52363|             52363|            52363|             52363|\n",
            "|   mean|           26181.0| 8.224584576320195|   9.7447554625996| 0.0960567256496187|438.23360028458103|25.33720411401169|27.997830809512713|\n",
            "| stddev|15116.040409666371|0.4803231238585148|1.2310178183371223|0.07096602813602408| 230.7139518268013|3.121521863803321|10.849667681244489|\n",
            "|    min|               0.0|       7.238049244|         6.9059267|        -0.35393834|         1.0537734|        15.919769|       5.135598853|\n",
            "|    max|           52362.0|      9.5309283615|12.256969999999997|0.15754998000000003|        919.899175|        32.516388|49.143541139999996|\n",
            "+-------+------------------+------------------+------------------+-------------------+------------------+-----------------+------------------+\n",
            "\n"
          ]
        }
      ],
      "source": [
        "df.select(num_cols).describe().show()"
      ]
    },
    {
      "cell_type": "code",
      "execution_count": null,
      "metadata": {
        "id": "6e-HfScuBQ4A"
      },
      "outputs": [],
      "source": [
        "df_pd3=df.toPandas()"
      ]
    },
    {
      "cell_type": "code",
      "execution_count": null,
      "metadata": {
        "colab": {
          "base_uri": "https://localhost:8080/",
          "height": 252
        },
        "id": "IwpyJtAjBRSI",
        "outputId": "ceefa40c-b6e7-40a6-8ad7-de821ae4762f"
      },
      "outputs": [
        {
          "data": {
            "image/png": "[encoded data removed]",
            "text/plain": [
              "<Figure size 432x288 with 1 Axes>"
            ]
          },
          "metadata": {
            "needs_background": "light"
          },
          "output_type": "display_data"
        }
      ],
      "source": [
        "#Check outlier in numerical variable: 'AnnIncome'\n",
        "sns.boxplot(y=\"DO\",data=df_pd3)\n",
        "plt.show()"
      ]
    },
    {
      "cell_type": "code",
      "execution_count": null,
      "metadata": {
        "colab": {
          "base_uri": "https://localhost:8080/"
        },
        "id": "XnpHrYY_BV0-",
        "outputId": "32e7c964-9865-4973-bf3a-02580f60851d"
      },
      "outputs": [
        {
          "name": "stdout",
          "output_type": "stream",
          "text": [
            "root\n",
            " |-- _c0: double (nullable = true)\n",
            " |-- DO: double (nullable = true)\n",
            " |-- pH: double (nullable = true)\n",
            " |-- ORP: double (nullable = true)\n",
            " |-- Cond: double (nullable = true)\n",
            " |-- Temp: double (nullable = true)\n",
            " |-- WQI: double (nullable = true)\n",
            " |-- Status: string (nullable = true)\n",
            "\n"
          ]
        }
      ],
      "source": [
        "df.printSchema()"
      ]
    },
    {
      "cell_type": "code",
      "execution_count": null,
      "metadata": {
        "colab": {
          "base_uri": "https://localhost:8080/"
        },
        "id": "alguFYjvBaT6",
        "outputId": "cd4ea1d5-97ae-4632-b53d-305a0db80dca"
      },
      "outputs": [
        {
          "data": {
            "text/plain": [
              "['Status_vec']"
            ]
          },
          "execution_count": 75,
          "metadata": {},
          "output_type": "execute_result"
        }
      ],
      "source": [
        "# define columns name for string indexer and one hot encoder processing\n",
        "cat_columns_string_vec = []\n",
        "for c in cat_cols:\n",
        "    cat_columns_string= c+\"_vec\"\n",
        "    cat_columns_string_vec.append(cat_columns_string)\n",
        "\n",
        "cat_columns_string_vec"
      ]
    },
    {
      "cell_type": "code",
      "execution_count": null,
      "metadata": {
        "id": "KPbkrJ66Bdv3"
      },
      "outputs": [],
      "source": [
        "#create index for categorical variables with stringIndexer   \n",
        "stringIndexer = [StringIndexer(inputCol=x, outputCol=x+\"_Index\")\n",
        "                  for x in cat_cols]\n",
        "#use oneHotEncoder to convert categorical variable to binary\n",
        "encoder = [OneHotEncoder(inputCol=x+\"_Index\", outputCol=y)\n",
        "           for x,y in zip(cat_cols, cat_columns_string_vec)]\n",
        "tmp = [[i,j] for i,j in zip(stringIndexer, encoder)]\n",
        "tmp = [i for sublist in tmp for i in sublist]"
      ]
    },
    {
      "cell_type": "code",
      "execution_count": null,
      "metadata": {
        "colab": {
          "base_uri": "https://localhost:8080/"
        },
        "id": "baPzkPaCBhrF",
        "outputId": "cac219c2-40b6-4767-9cce-e954d76b5697"
      },
      "outputs": [
        {
          "data": {
            "text/plain": [
              "['_c0', 'DO', 'pH', 'ORP', 'Cond', 'Temp', 'WQI', 'Status_vec']"
            ]
          },
          "execution_count": 77,
          "metadata": {},
          "output_type": "execute_result"
        }
      ],
      "source": [
        "#define columns for vector assembler processing\n",
        "cols_assember=num_cols + cat_columns_string_vec\n",
        "cols_assember"
      ]
    },
    {
      "cell_type": "code",
      "execution_count": null,
      "metadata": {
        "id": "7gDrAaF9Bj_3"
      },
      "outputs": [],
      "source": [
        "#create vector assembler from cols_assember\n",
        "assembler=VectorAssembler(inputCols=cols_assember, outputCol='features')\n",
        "tmp += [assembler]\n",
        "\n",
        "#create pipeline for stringIndexer, oneHotEncoder and vectorassembler\n",
        "pipeline=Pipeline(stages=tmp)"
      ]
    },
    {
      "cell_type": "code",
      "execution_count": null,
      "metadata": {
        "id": "cl9jNrDdBttw"
      },
      "outputs": [],
      "source": [
        "#fit and transform pipeline to dataframe\n",
        "df_final = pipeline.fit(df).transform(df)"
      ]
    },
    {
      "cell_type": "code",
      "execution_count": null,
      "metadata": {
        "colab": {
          "base_uri": "https://localhost:8080/"
        },
        "id": "ioX9f9c3BwTG",
        "outputId": "9acec844-da95-460e-a8e9-e87e9e94c543"
      },
      "outputs": [
        {
          "name": "stdout",
          "output_type": "stream",
          "text": [
            "+---+-----------+------------------+----------+---------+---------+------------------+---------+------------+-------------+--------------------+\n",
            "|_c0|         DO|                pH|       ORP|     Cond|     Temp|               WQI|   Status|Status_Index|   Status_vec|            features|\n",
            "+---+-----------+------------------+----------+---------+---------+------------------+---------+------------+-------------+--------------------+\n",
            "|0.0|9.494212038|12.256969999999997|0.14840198|12.954404|17.830261|49.143541139999996|Very Poor|         2.0|(4,[2],[1.0])|[0.0,9.494212038,...|\n",
            "|1.0|9.500406233|12.256969999999997| 0.1445036| 8.547796|17.798553|49.143541139999996|Very Poor|         2.0|(4,[2],[1.0])|[1.0,9.500406233,...|\n",
            "|2.0|9.487447744|12.256969999999997|0.13437152|16.847918| 17.86493|49.143541139999996|Very Poor|         2.0|(4,[2],[1.0])|[2.0,9.487447744,...|\n",
            "|3.0|9.486121036|12.256969999999997|0.14270854|16.884756|17.871735|       46.90164604|Very Poor|         2.0|(4,[2],[1.0])|[3.0,9.486121036,...|\n",
            "+---+-----------+------------------+----------+---------+---------+------------------+---------+------------+-------------+--------------------+\n",
            "only showing top 4 rows\n",
            "\n"
          ]
        }
      ],
      "source": [
        "df_final.show(4)"
      ]
    },
    {
      "cell_type": "code",
      "execution_count": null,
      "metadata": {
        "id": "d2i8zVEDBzB6"
      },
      "outputs": [],
      "source": [
        "#create model scaler for normalization\n",
        "scaler = StandardScaler(inputCol=\"features\", outputCol=\"scaledFeatures\", withStd=True, withMean=False)"
      ]
    },
    {
      "cell_type": "code",
      "execution_count": null,
      "metadata": {
        "id": "Ra1ZSMhNB2mg"
      },
      "outputs": [],
      "source": [
        "#Compute ScalerModel by fitting the StandardScaler\n",
        "scalerModel = scaler.fit(df_final)"
      ]
    },
    {
      "cell_type": "code",
      "execution_count": null,
      "metadata": {
        "colab": {
          "base_uri": "https://localhost:8080/"
        },
        "id": "KQRi2zjuB5JQ",
        "outputId": "720e6ccd-28ad-4ab9-81e1-8b4412c6237a"
      },
      "outputs": [
        {
          "name": "stdout",
          "output_type": "stream",
          "text": [
            "+----+--------------------+\n",
            "| _C0|      scaledFeatures|\n",
            "+----+--------------------+\n",
            "| 0.0|[0.0,19.766302237...|\n",
            "| 1.0|[6.61548906260215...|\n",
            "| 2.0|[1.32309781252043...|\n",
            "| 3.0|[1.98464671878064...|\n",
            "| 4.0|[2.64619562504086...|\n",
            "| 5.0|[3.30774453130107...|\n",
            "| 6.0|[3.96929343756129...|\n",
            "| 7.0|[4.63084234382150...|\n",
            "| 8.0|[5.29239125008172...|\n",
            "| 9.0|[5.95394015634193...|\n",
            "|10.0|[6.61548906260215...|\n",
            "|11.0|[7.27703796886236...|\n",
            "|12.0|[7.93858687512258...|\n",
            "|13.0|[8.60013578138279...|\n",
            "|14.0|[9.26168468764301...|\n",
            "|15.0|[9.92323359390322...|\n",
            "|16.0|[0.00105847825001...|\n",
            "|17.0|[0.00112463314064...|\n",
            "|18.0|[0.00119078803126...|\n",
            "|19.0|[0.00125694292189...|\n",
            "+----+--------------------+\n",
            "only showing top 20 rows\n",
            "\n"
          ]
        }
      ],
      "source": [
        "# Normalize each features to have unit standard deviation.\n",
        "cluster_final_data = scalerModel.transform(df_final).select('_C0', 'scaledFeatures')\n",
        "cluster_final_data.show()"
      ]
    },
    {
      "cell_type": "code",
      "execution_count": null,
      "metadata": {
        "colab": {
          "base_uri": "https://localhost:8080/"
        },
        "id": "ki3COI8SE6tB",
        "outputId": "698ec1e3-d09d-4fc2-976a-b30fc040b6ef"
      },
      "outputs": [
        {
          "name": "stdout",
          "output_type": "stream",
          "text": [
            "Cluster Centers: \n",
            "[3.59840000e+04 8.15448024e+00 9.36614303e+00 8.56455077e-02\n",
            " 3.16198871e+02 2.57803756e+01 2.57363367e+01 5.71906044e-01\n",
            " 1.10389008e-01 0.00000000e+00 3.17704948e-01]\n",
            "[4.98350000e+03 7.98338668e+00 1.13459263e+01 7.43047949e-02\n",
            " 4.91831409e+02 2.69147079e+01 4.18971903e+01 0.00000000e+00\n",
            " 0.00000000e+00 7.19402087e-01 2.80597913e-01]\n",
            "[2.53635000e+04 7.87778181e+00 9.12417803e+00 1.11380691e-01\n",
            " 3.90363868e+02 2.76199088e+01 2.50604132e+01 8.90162369e-01\n",
            " 1.09837631e-01 0.00000000e+00 0.00000000e+00]\n",
            "[4.68660000e+04 8.99705111e+00 9.54022875e+00 9.50964231e-02\n",
            " 6.05445581e+02 2.03494486e+01 2.39844740e+01 7.03902483e-01\n",
            " 2.73173838e-01 0.00000000e+00 2.28327117e-02]\n",
            "[1.50480000e+04 8.05714582e+00 9.43606258e+00 1.13680696e-01\n",
            " 3.83436622e+02 2.63639259e+01 2.41284608e+01 2.39149690e-02\n",
            " 6.32614900e-01 3.43470131e-01 0.00000000e+00]\n"
          ]
        }
      ],
      "source": [
        "#Create model KMeans with K=5\n",
        "#kmeans2 = KMeans(featuresCol='scaledFeatures',k=2).setSeed(1)\n",
        "\n",
        "k = 5\n",
        "kmeans = KMeans().setK(k).setSeed(1).setFeaturesCol(\"features\")\n",
        "model = kmeans.fit(df_final)\n",
        "centers = model.clusterCenters()\n",
        "\n",
        "print(\"Cluster Centers: \")\n",
        "for center in centers:\n",
        "    print(center)"
      ]
    },
    {
      "cell_type": "code",
      "execution_count": null,
      "metadata": {
        "colab": {
          "base_uri": "https://localhost:8080/"
        },
        "id": "4zE2M75WFLgm",
        "outputId": "e649423e-20cd-4528-a900-5b3fefc183f8"
      },
      "outputs": [
        {
          "data": {
            "text/plain": [
              "pyspark.sql.dataframe.DataFrame"
            ]
          },
          "execution_count": 94,
          "metadata": {},
          "output_type": "execute_result"
        }
      ],
      "source": [
        "#transfrom model to dataset\n",
        "test=model.transform(df_final)\n",
        "type(test)"
      ]
    },
    {
      "cell_type": "code",
      "execution_count": null,
      "metadata": {
        "colab": {
          "base_uri": "https://localhost:8080/"
        },
        "id": "Fks_Exe3FQqh",
        "outputId": "ad0d90ed-bc29-4d01-a4c7-bcc883cd13ce"
      },
      "outputs": [
        {
          "name": "stdout",
          "output_type": "stream",
          "text": [
            "+---+-----------+------------------+----------+---------+---------+------------------+---------+------------+-------------+--------------------+----------+\n",
            "|_c0|         DO|                pH|       ORP|     Cond|     Temp|               WQI|   Status|Status_Index|   Status_vec|            features|prediction|\n",
            "+---+-----------+------------------+----------+---------+---------+------------------+---------+------------+-------------+--------------------+----------+\n",
            "|0.0|9.494212038|12.256969999999997|0.14840198|12.954404|17.830261|49.143541139999996|Very Poor|         2.0|(4,[2],[1.0])|[0.0,9.494212038,...|         1|\n",
            "|1.0|9.500406233|12.256969999999997| 0.1445036| 8.547796|17.798553|49.143541139999996|Very Poor|         2.0|(4,[2],[1.0])|[1.0,9.500406233,...|         1|\n",
            "|2.0|9.487447744|12.256969999999997|0.13437152|16.847918| 17.86493|49.143541139999996|Very Poor|         2.0|(4,[2],[1.0])|[2.0,9.487447744,...|         1|\n",
            "|3.0|9.486121036|12.256969999999997|0.14270854|16.884756|17.871735|       46.90164604|Very Poor|         2.0|(4,[2],[1.0])|[3.0,9.486121036,...|         1|\n",
            "+---+-----------+------------------+----------+---------+---------+------------------+---------+------------+-------------+--------------------+----------+\n",
            "only showing top 4 rows\n",
            "\n"
          ]
        }
      ],
      "source": [
        "test.show(4)"
      ]
    },
    {
      "cell_type": "code",
      "execution_count": null,
      "metadata": {
        "colab": {
          "base_uri": "https://localhost:8080/"
        },
        "id": "ynXXf0qMFTDQ",
        "outputId": "01f10058-7646-4348-be67-acb36e4a6741"
      },
      "outputs": [
        {
          "data": {
            "text/plain": [
              "['_c0', 'DO', 'pH', 'ORP', 'Cond', 'Temp', 'WQI']"
            ]
          },
          "execution_count": 96,
          "metadata": {},
          "output_type": "execute_result"
        }
      ],
      "source": [
        "num_cols"
      ]
    },
    {
      "cell_type": "code",
      "execution_count": null,
      "metadata": {
        "id": "KEecHEv_FYh5"
      },
      "outputs": [],
      "source": [
        "#Assign cluster to the event in data\n",
        "prediction= model.transform(df_final).select(*num_cols,*cat_cols, 'prediction').collect()\n",
        "\n",
        "#create dataframe \n",
        "prediction=spark.createDataFrame(prediction)"
      ]
    },
    {
      "cell_type": "code",
      "execution_count": null,
      "metadata": {
        "colab": {
          "base_uri": "https://localhost:8080/"
        },
        "id": "O9mKdWgUF8-n",
        "outputId": "d1efc28e-9d42-44e0-d545-4f76f226adb7"
      },
      "outputs": [
        {
          "name": "stdout",
          "output_type": "stream",
          "text": [
            "+----+------------+------------------+----------+---------+---------+------------------+---------+----------+\n",
            "| _c0|          DO|                pH|       ORP|     Cond|     Temp|               WQI|   Status|prediction|\n",
            "+----+------------+------------------+----------+---------+---------+------------------+---------+----------+\n",
            "| 0.0| 9.494212038|12.256969999999997|0.14840198|12.954404|17.830261|49.143541139999996|Very Poor|         1|\n",
            "| 1.0| 9.500406233|12.256969999999997| 0.1445036| 8.547796|17.798553|49.143541139999996|Very Poor|         1|\n",
            "| 2.0| 9.487447744|12.256969999999997|0.13437152|16.847918| 17.86493|49.143541139999996|Very Poor|         1|\n",
            "| 3.0| 9.486121036|12.256969999999997|0.14270854|16.884756|17.871735|       46.90164604|Very Poor|         1|\n",
            "| 4.0| 9.485210959|12.256969999999997|0.13752413|16.987082|17.876404|49.143541139999996|Very Poor|         1|\n",
            "| 5.0|9.5309283615|12.256969999999997| 0.1368258| 20.01182|17.872925|       47.70424932|Very Poor|         1|\n",
            "| 6.0|9.5309283615|12.256969999999997| 0.1375587|16.825544|17.889435|       48.97223949|Very Poor|         1|\n",
            "| 7.0|9.5309283615|12.256969999999997| 0.1378684|16.851637|17.892822|49.143541139999996|Very Poor|         1|\n",
            "| 8.0|9.5309283615|12.256969999999997|0.13840961|17.008675|17.894867|49.143541139999996|Very Poor|         1|\n",
            "| 9.0| 9.480543951|12.256969999999997|0.14549327|16.815346| 17.90036|49.143541139999996|Very Poor|         1|\n",
            "|10.0| 9.479343582|12.256969999999997|0.15039897|16.794378|17.906525|49.143541139999996|Very Poor|         1|\n",
            "|11.0|9.5309283615|12.256969999999997|0.13906145|16.893757|17.901947|49.143541139999996|Very Poor|         1|\n",
            "|12.0|9.5309283615|12.256969999999997|0.13977051|16.870562| 17.91803|49.143541139999996|Very Poor|         1|\n",
            "|13.0|9.5309283615|12.256969999999997|0.14504504|21.078703|17.868164|       47.44783018|Very Poor|         1|\n",
            "|14.0|9.5309283615|12.256969999999997|0.14376736| 19.73823|17.883911|       46.42277212|Very Poor|         1|\n",
            "|15.0|9.5309283615|12.256969999999997| 0.1488905|30.233757|17.734894|49.143541139999996|Very Poor|         1|\n",
            "|16.0|9.5309283615|12.256969999999997| 0.1546197|56.188896|18.148315|49.143541139999996|Very Poor|         1|\n",
            "|17.0|9.5309283615|12.256969999999997|0.15548062|55.421597| 17.74704|       48.75694408|Very Poor|         1|\n",
            "|18.0|9.5309283615|12.256969999999997|0.15571022|55.843636|18.152557|49.143541139999996|Very Poor|         1|\n",
            "|19.0| 9.428478162|12.256969999999997|0.15609312|56.188408|18.169067|49.143541139999996|Very Poor|         1|\n",
            "+----+------------+------------------+----------+---------+---------+------------------+---------+----------+\n",
            "only showing top 20 rows\n",
            "\n"
          ]
        }
      ],
      "source": [
        "prediction.show()"
      ]
    },
    {
      "cell_type": "code",
      "execution_count": null,
      "metadata": {
        "colab": {
          "base_uri": "https://localhost:8080/"
        },
        "id": "Ie2dbLD8F_pg",
        "outputId": "6ea87e23-bb74-45b8-dfe0-e7b160bda323"
      },
      "outputs": [
        {
          "name": "stdout",
          "output_type": "stream",
          "text": [
            "+----------+-----+\n",
            "|prediction|count|\n",
            "+----------+-----+\n",
            "|         0|10742|\n",
            "|         1|10016|\n",
            "|         2|10470|\n",
            "|         3|10945|\n",
            "|         4|10190|\n",
            "+----------+-----+\n",
            "\n"
          ]
        }
      ],
      "source": [
        "#grouping by our prediction of cluster\n",
        "prediction.groupBy('prediction').count().sort(col('prediction')).show()"
      ]
    },
    {
      "cell_type": "code",
      "execution_count": null,
      "metadata": {
        "colab": {
          "base_uri": "https://localhost:8080/"
        },
        "id": "hr3IHjyKGFBV",
        "outputId": "021977a8-285e-439b-a84f-58b68bc51348"
      },
      "outputs": [
        {
          "name": "stdout",
          "output_type": "stream",
          "text": [
            "+---+-----------+------------------+----------+---------+---------+------------------+\n",
            "|_c0|         DO|                pH|       ORP|     Cond|     Temp|               WQI|\n",
            "+---+-----------+------------------+----------+---------+---------+------------------+\n",
            "|0.0|9.494212038|12.256969999999997|0.14840198|12.954404|17.830261|49.143541139999996|\n",
            "|1.0|9.500406233|12.256969999999997| 0.1445036| 8.547796|17.798553|49.143541139999996|\n",
            "|2.0|9.487447744|12.256969999999997|0.13437152|16.847918| 17.86493|49.143541139999996|\n",
            "|3.0|9.486121036|12.256969999999997|0.14270854|16.884756|17.871735|       46.90164604|\n",
            "+---+-----------+------------------+----------+---------+---------+------------------+\n",
            "only showing top 4 rows\n",
            "\n"
          ]
        }
      ],
      "source": [
        "df_final2=df.drop(*cat_cols)\n",
        "df_final2.show(4)"
      ]
    },
    {
      "cell_type": "code",
      "execution_count": null,
      "metadata": {
        "id": "6-CWDhcZGOHo"
      },
      "outputs": [],
      "source": [
        "#define columns for vector assembler processing\n",
        "cols_assember=num_cols"
      ]
    },
    {
      "cell_type": "code",
      "execution_count": null,
      "metadata": {
        "id": "54-BnHRzGRRU"
      },
      "outputs": [],
      "source": [
        "#create vector assembler from cols_assember\n",
        "assembler=VectorAssembler(inputCols=cols_assember, outputCol='features')"
      ]
    },
    {
      "cell_type": "code",
      "execution_count": null,
      "metadata": {
        "id": "altcGS7-GToI"
      },
      "outputs": [],
      "source": [
        "#transform vector assembler to dataset\n",
        "final_data2 = assembler.transform(df_final2)\n"
      ]
    },
    {
      "cell_type": "code",
      "execution_count": null,
      "metadata": {
        "colab": {
          "base_uri": "https://localhost:8080/"
        },
        "id": "udN1qIKYGXrA",
        "outputId": "45fae67f-3ca2-4c03-924d-75d3dd13c0bf"
      },
      "outputs": [
        {
          "name": "stdout",
          "output_type": "stream",
          "text": [
            "+---+-----------+------------------+----------+---------+---------+------------------+--------------------+\n",
            "|_c0|         DO|                pH|       ORP|     Cond|     Temp|               WQI|            features|\n",
            "+---+-----------+------------------+----------+---------+---------+------------------+--------------------+\n",
            "|0.0|9.494212038|12.256969999999997|0.14840198|12.954404|17.830261|49.143541139999996|[0.0,9.494212038,...|\n",
            "|1.0|9.500406233|12.256969999999997| 0.1445036| 8.547796|17.798553|49.143541139999996|[1.0,9.500406233,...|\n",
            "|2.0|9.487447744|12.256969999999997|0.13437152|16.847918| 17.86493|49.143541139999996|[2.0,9.487447744,...|\n",
            "|3.0|9.486121036|12.256969999999997|0.14270854|16.884756|17.871735|       46.90164604|[3.0,9.486121036,...|\n",
            "+---+-----------+------------------+----------+---------+---------+------------------+--------------------+\n",
            "only showing top 4 rows\n",
            "\n"
          ]
        }
      ],
      "source": [
        "final_data2.show(4)"
      ]
    },
    {
      "cell_type": "code",
      "execution_count": null,
      "metadata": {
        "id": "yYakbPr4GZ1b"
      },
      "outputs": [],
      "source": [
        "#create model scaler for normalization\n",
        "scaler = StandardScaler(inputCol=\"features\", outputCol=\"scaledFeatures\", withStd=True, withMean=False)"
      ]
    },
    {
      "cell_type": "code",
      "execution_count": null,
      "metadata": {
        "colab": {
          "base_uri": "https://localhost:8080/"
        },
        "id": "V6j5WbN6Gcsc",
        "outputId": "d6b26414-1c93-482e-aa34-68b5eb91652f"
      },
      "outputs": [
        {
          "name": "stdout",
          "output_type": "stream",
          "text": [
            "+---+--------------------+\n",
            "|_c0|      scaledFeatures|\n",
            "+---+--------------------+\n",
            "|0.0|[0.0,19.766302237...|\n",
            "|1.0|[6.61548906260215...|\n",
            "|2.0|[1.32309781252043...|\n",
            "|3.0|[1.98464671878064...|\n",
            "|4.0|[2.64619562504086...|\n",
            "|5.0|[3.30774453130107...|\n",
            "+---+--------------------+\n",
            "only showing top 6 rows\n",
            "\n"
          ]
        }
      ],
      "source": [
        "# Compute ScalerModel by fitting the StandardScaler\n",
        "scalerModel = scaler.fit(final_data2)\n",
        "# Normalize each feature to have unit standard deviation.\n",
        "cluster_final_data2 = scalerModel.transform(final_data2).select('_c0', 'scaledFeatures')\n",
        "cluster_final_data2.show(6)"
      ]
    },
    {
      "cell_type": "code",
      "execution_count": null,
      "metadata": {
        "colab": {
          "base_uri": "https://localhost:8080/"
        },
        "id": "J6Fk-PsjGeyQ",
        "outputId": "88b70505-1f63-4124-96ce-5f41e3a37739"
      },
      "outputs": [
        {
          "name": "stdout",
          "output_type": "stream",
          "text": [
            "Cluster Centers: \n",
            "[3.59840000e+04 8.15448024e+00 9.36614303e+00 8.56455077e-02\n",
            " 3.16198871e+02 2.57803756e+01 2.57363367e+01]\n",
            "[4.98350000e+03 7.98338668e+00 1.13459263e+01 7.43047949e-02\n",
            " 4.91831409e+02 2.69147079e+01 4.18971903e+01]\n",
            "[2.53635000e+04 7.87778181e+00 9.12417803e+00 1.11380691e-01\n",
            " 3.90363868e+02 2.76199088e+01 2.50604132e+01]\n",
            "[4.68660000e+04 8.99705111e+00 9.54022875e+00 9.50964231e-02\n",
            " 6.05445581e+02 2.03494486e+01 2.39844740e+01]\n",
            "[1.50480000e+04 8.05714582e+00 9.43606258e+00 1.13680696e-01\n",
            " 3.83436622e+02 2.63639259e+01 2.41284608e+01]\n"
          ]
        }
      ],
      "source": [
        "#Create model KMeans\n",
        "k = 5\n",
        "kmeans2 = KMeans().setK(k).setSeed(1).setFeaturesCol(\"features\")\n",
        "model_k5 = kmeans2.fit(final_data2)\n",
        "centers2 = model_k5.clusterCenters()\n",
        "\n",
        "print(\"Cluster Centers: \")\n",
        "for center in centers2:\n",
        "    print(center)"
      ]
    },
    {
      "cell_type": "code",
      "execution_count": null,
      "metadata": {
        "colab": {
          "base_uri": "https://localhost:8080/"
        },
        "id": "_AUOfbAiJ-zQ",
        "outputId": "ea96f74d-fac0-4005-b45f-038e96616bce"
      },
      "outputs": [
        {
          "name": "stdout",
          "output_type": "stream",
          "text": [
            "num_id: _c0\n"
          ]
        }
      ],
      "source": [
        "#save column 'Id' in num_id variable\n",
        "#Select column '_c0' from num_cols\n",
        "num_id=num_cols.pop(0)\n",
        "print(\"num_id:\", num_id)\n",
        "\n",
        "num_id=[num_id]"
      ]
    },
    {
      "cell_type": "code",
      "execution_count": null,
      "metadata": {
        "id": "xBluehCCGuAM"
      },
      "outputs": [],
      "source": [
        "#Assign cluster to the event in data\n",
        "prediction2= model_k5.transform(final_data2).select(*num_id,*num_cols, 'prediction').collect()\n",
        "\n",
        "#create dataframe \n",
        "prediction2=spark.createDataFrame(prediction2)"
      ]
    },
    {
      "cell_type": "code",
      "execution_count": null,
      "metadata": {
        "colab": {
          "base_uri": "https://localhost:8080/"
        },
        "id": "dte7GOHdGw1z",
        "outputId": "2128e9d5-c5ef-4202-825a-d67f43d28e6d"
      },
      "outputs": [
        {
          "name": "stdout",
          "output_type": "stream",
          "text": [
            "+----+------------+------------------+----------+---------+---------+------------------+----------+\n",
            "| _c0|          DO|                pH|       ORP|     Cond|     Temp|               WQI|prediction|\n",
            "+----+------------+------------------+----------+---------+---------+------------------+----------+\n",
            "| 0.0| 9.494212038|12.256969999999997|0.14840198|12.954404|17.830261|49.143541139999996|         1|\n",
            "| 1.0| 9.500406233|12.256969999999997| 0.1445036| 8.547796|17.798553|49.143541139999996|         1|\n",
            "| 2.0| 9.487447744|12.256969999999997|0.13437152|16.847918| 17.86493|49.143541139999996|         1|\n",
            "| 3.0| 9.486121036|12.256969999999997|0.14270854|16.884756|17.871735|       46.90164604|         1|\n",
            "| 4.0| 9.485210959|12.256969999999997|0.13752413|16.987082|17.876404|49.143541139999996|         1|\n",
            "| 5.0|9.5309283615|12.256969999999997| 0.1368258| 20.01182|17.872925|       47.70424932|         1|\n",
            "| 6.0|9.5309283615|12.256969999999997| 0.1375587|16.825544|17.889435|       48.97223949|         1|\n",
            "| 7.0|9.5309283615|12.256969999999997| 0.1378684|16.851637|17.892822|49.143541139999996|         1|\n",
            "| 8.0|9.5309283615|12.256969999999997|0.13840961|17.008675|17.894867|49.143541139999996|         1|\n",
            "| 9.0| 9.480543951|12.256969999999997|0.14549327|16.815346| 17.90036|49.143541139999996|         1|\n",
            "|10.0| 9.479343582|12.256969999999997|0.15039897|16.794378|17.906525|49.143541139999996|         1|\n",
            "|11.0|9.5309283615|12.256969999999997|0.13906145|16.893757|17.901947|49.143541139999996|         1|\n",
            "|12.0|9.5309283615|12.256969999999997|0.13977051|16.870562| 17.91803|49.143541139999996|         1|\n",
            "|13.0|9.5309283615|12.256969999999997|0.14504504|21.078703|17.868164|       47.44783018|         1|\n",
            "|14.0|9.5309283615|12.256969999999997|0.14376736| 19.73823|17.883911|       46.42277212|         1|\n",
            "|15.0|9.5309283615|12.256969999999997| 0.1488905|30.233757|17.734894|49.143541139999996|         1|\n",
            "|16.0|9.5309283615|12.256969999999997| 0.1546197|56.188896|18.148315|49.143541139999996|         1|\n",
            "|17.0|9.5309283615|12.256969999999997|0.15548062|55.421597| 17.74704|       48.75694408|         1|\n",
            "|18.0|9.5309283615|12.256969999999997|0.15571022|55.843636|18.152557|49.143541139999996|         1|\n",
            "|19.0| 9.428478162|12.256969999999997|0.15609312|56.188408|18.169067|49.143541139999996|         1|\n",
            "+----+------------+------------------+----------+---------+---------+------------------+----------+\n",
            "only showing top 20 rows\n",
            "\n"
          ]
        }
      ],
      "source": [
        "#show dataframe\n",
        "prediction2.show()"
      ]
    },
    {
      "cell_type": "code",
      "execution_count": null,
      "metadata": {
        "colab": {
          "base_uri": "https://localhost:8080/"
        },
        "id": "BiQe2_PaG21P",
        "outputId": "0a4ae27a-570d-4772-f269-2763b8581aec"
      },
      "outputs": [
        {
          "name": "stdout",
          "output_type": "stream",
          "text": [
            "+----------+-----+\n",
            "|prediction|count|\n",
            "+----------+-----+\n",
            "|         1|10016|\n",
            "|         2|10470|\n",
            "|         4|10190|\n",
            "|         0|10742|\n",
            "|         3|10945|\n",
            "+----------+-----+\n",
            "\n"
          ]
        }
      ],
      "source": [
        "#grouping by cluster prediction\n",
        "prediction2.groupBy('prediction').count().show()"
      ]
    },
    {
      "cell_type": "code",
      "execution_count": null,
      "metadata": {
        "id": "LRiwO7ohPxGd"
      },
      "outputs": [],
      "source": []
    },
    {
      "cell_type": "code",
      "execution_count": null,
      "metadata": {
        "colab": {
          "base_uri": "https://localhost:8080/"
        },
        "id": "6kZ1J3-zG3KS",
        "outputId": "b55e1fd7-2298-430e-cc72-5569e40476e1"
      },
      "outputs": [
        {
          "name": "stdout",
          "output_type": "stream",
          "text": [
            "+---+------------+------------------+----------+---------+---------+------------------+----------+------------+------------------+----------+---------+---------+------------------+---------+\n",
            "|_c0|          DO|                pH|       ORP|     Cond|     Temp|               WQI|prediction|          DO|                pH|       ORP|     Cond|     Temp|               WQI|   Status|\n",
            "+---+------------+------------------+----------+---------+---------+------------------+----------+------------+------------------+----------+---------+---------+------------------+---------+\n",
            "|0.0| 9.494212038|12.256969999999997|0.14840198|12.954404|17.830261|49.143541139999996|         1| 9.494212038|12.256969999999997|0.14840198|12.954404|17.830261|49.143541139999996|Very Poor|\n",
            "|1.0| 9.500406233|12.256969999999997| 0.1445036| 8.547796|17.798553|49.143541139999996|         1| 9.500406233|12.256969999999997| 0.1445036| 8.547796|17.798553|49.143541139999996|Very Poor|\n",
            "|2.0| 9.487447744|12.256969999999997|0.13437152|16.847918| 17.86493|49.143541139999996|         1| 9.487447744|12.256969999999997|0.13437152|16.847918| 17.86493|49.143541139999996|Very Poor|\n",
            "|3.0| 9.486121036|12.256969999999997|0.14270854|16.884756|17.871735|       46.90164604|         1| 9.486121036|12.256969999999997|0.14270854|16.884756|17.871735|       46.90164604|Very Poor|\n",
            "|4.0| 9.485210959|12.256969999999997|0.13752413|16.987082|17.876404|49.143541139999996|         1| 9.485210959|12.256969999999997|0.13752413|16.987082|17.876404|49.143541139999996|Very Poor|\n",
            "|5.0|9.5309283615|12.256969999999997| 0.1368258| 20.01182|17.872925|       47.70424932|         1|9.5309283615|12.256969999999997| 0.1368258| 20.01182|17.872925|       47.70424932|Very Poor|\n",
            "+---+------------+------------------+----------+---------+---------+------------------+----------+------------+------------------+----------+---------+---------+------------------+---------+\n",
            "only showing top 6 rows\n",
            "\n"
          ]
        }
      ],
      "source": [
        "#Join \n",
        "prediction3=prediction2.join(df, '_c0')\n",
        "prediction3.show(6)"
      ]
    },
    {
      "cell_type": "code",
      "execution_count": null,
      "metadata": {
        "colab": {
          "base_uri": "https://localhost:8080/"
        },
        "id": "oP2N0eqzKaIR",
        "outputId": "a84e80c9-c74c-41e6-e44f-b05a7e738c81"
      },
      "outputs": [
        {
          "name": "stdout",
          "output_type": "stream",
          "text": [
            "+----------+------------------+\n",
            "|prediction|          avg(WQI)|\n",
            "+----------+------------------+\n",
            "|         1| 41.90883691824781|\n",
            "|         2|25.169412374841503|\n",
            "|         4| 23.94641766094208|\n",
            "|         0|25.747236817557265|\n",
            "|         3| 23.95403770503004|\n",
            "+----------+------------------+\n",
            "\n"
          ]
        }
      ],
      "source": [
        "#grouping by cluster prediction and check average of age\n",
        "prediction2.groupBy('prediction').agg({'WQI':'mean'}).show()"
      ]
    },
    {
      "cell_type": "code",
      "execution_count": null,
      "metadata": {
        "colab": {
          "base_uri": "https://localhost:8080/"
        },
        "id": "hb3k41YXKf1u",
        "outputId": "108c5253-d4a2-4c4e-b599-67c6cdb48d80"
      },
      "outputs": [
        {
          "name": "stdout",
          "output_type": "stream",
          "text": [
            "+----------+--------+------------------+------------------+-------------------+------------------+------------------+------------------+---------------+\n",
            "|prediction|avg(_c0)|           avg(DO)|           avg(pH)|           avg(ORP)|         avg(Cond)|         avg(Temp)|          avg(WQI)|avg(prediction)|\n",
            "+----------+--------+------------------+------------------+-------------------+------------------+------------------+------------------+---------------+\n",
            "|         1|  5007.5|7.9830893019871185|11.346936776407713|0.07470373344558649|491.31877433169893| 26.91656247563894| 41.90883691824781|            1.0|\n",
            "|         2| 25440.5| 7.877629282690358|   9.1348865273639|0.11131821680076424|392.28827298134735| 27.62097247153766|25.169412374841503|            2.0|\n",
            "|         4| 15110.5| 8.057318348253368| 9.415033408243414|0.11348706735328719|   383.32971655741|26.362673366241474| 23.94641766094208|            4.0|\n",
            "|         0| 36046.5| 8.158760409372709|   9.3700366768851|0.08548169121290267|315.91038456857194| 25.75302004729099|25.747236817557265|            0.0|\n",
            "|         3| 46890.0|  8.99781113249367| 9.536713127546824|0.09514905963974411| 604.7765908748174| 20.34440973403381| 23.95403770503004|            3.0|\n",
            "+----------+--------+------------------+------------------+-------------------+------------------+------------------+------------------+---------------+\n",
            "\n"
          ]
        }
      ],
      "source": [
        "#grouping by cluster prediction and check average of all numerical variable\n",
        "prediction2.groupBy('prediction').avg().show()"
      ]
    },
    {
      "cell_type": "code",
      "execution_count": null,
      "metadata": {
        "id": "ePSfv9gZKqnw"
      },
      "outputs": [],
      "source": [
        "#convert prediction to Pandas\n",
        "pred_pd=prediction2.toPandas().set_index('_c0')"
      ]
    },
    {
      "cell_type": "code",
      "execution_count": null,
      "metadata": {
        "colab": {
          "base_uri": "https://localhost:8080/",
          "height": 237
        },
        "id": "sZDQtXlJKunt",
        "outputId": "32dd1288-2a40-478e-91a7-bc3a1fc05ba8"
      },
      "outputs": [
        {
          "data": {
            "text/html": [
              "\n",
              "  <div id=\"df-4ab32014-4a5d-4dba-bebd-237bfc20955e\">\n",
              "    <div class=\"colab-df-container\">\n",
              "      <div>\n",
              "<style scoped>\n",
              "    .dataframe tbody tr th:only-of-type {\n",
              "        vertical-align: middle;\n",
              "    }\n",
              "\n",
              "    .dataframe tbody tr th {\n",
              "        vertical-align: top;\n",
              "    }\n",
              "\n",
              "    .dataframe thead th {\n",
              "        text-align: right;\n",
              "    }\n",
              "</style>\n",
              "<table border=\"1\" class=\"dataframe\">\n",
              "  <thead>\n",
              "    <tr style=\"text-align: right;\">\n",
              "      <th></th>\n",
              "      <th>DO</th>\n",
              "      <th>pH</th>\n",
              "      <th>ORP</th>\n",
              "      <th>Cond</th>\n",
              "      <th>Temp</th>\n",
              "      <th>WQI</th>\n",
              "      <th>prediction</th>\n",
              "    </tr>\n",
              "    <tr>\n",
              "      <th>_c0</th>\n",
              "      <th></th>\n",
              "      <th></th>\n",
              "      <th></th>\n",
              "      <th></th>\n",
              "      <th></th>\n",
              "      <th></th>\n",
              "      <th></th>\n",
              "    </tr>\n",
              "  </thead>\n",
              "  <tbody>\n",
              "    <tr>\n",
              "      <th>0.0</th>\n",
              "      <td>9.494212</td>\n",
              "      <td>12.25697</td>\n",
              "      <td>0.148402</td>\n",
              "      <td>12.954404</td>\n",
              "      <td>17.830261</td>\n",
              "      <td>49.143541</td>\n",
              "      <td>1</td>\n",
              "    </tr>\n",
              "    <tr>\n",
              "      <th>1.0</th>\n",
              "      <td>9.500406</td>\n",
              "      <td>12.25697</td>\n",
              "      <td>0.144504</td>\n",
              "      <td>8.547796</td>\n",
              "      <td>17.798553</td>\n",
              "      <td>49.143541</td>\n",
              "      <td>1</td>\n",
              "    </tr>\n",
              "    <tr>\n",
              "      <th>2.0</th>\n",
              "      <td>9.487448</td>\n",
              "      <td>12.25697</td>\n",
              "      <td>0.134372</td>\n",
              "      <td>16.847918</td>\n",
              "      <td>17.864930</td>\n",
              "      <td>49.143541</td>\n",
              "      <td>1</td>\n",
              "    </tr>\n",
              "    <tr>\n",
              "      <th>3.0</th>\n",
              "      <td>9.486121</td>\n",
              "      <td>12.25697</td>\n",
              "      <td>0.142709</td>\n",
              "      <td>16.884756</td>\n",
              "      <td>17.871735</td>\n",
              "      <td>46.901646</td>\n",
              "      <td>1</td>\n",
              "    </tr>\n",
              "    <tr>\n",
              "      <th>4.0</th>\n",
              "      <td>9.485211</td>\n",
              "      <td>12.25697</td>\n",
              "      <td>0.137524</td>\n",
              "      <td>16.987082</td>\n",
              "      <td>17.876404</td>\n",
              "      <td>49.143541</td>\n",
              "      <td>1</td>\n",
              "    </tr>\n",
              "  </tbody>\n",
              "</table>\n",
              "</div>\n",
              "      <button class=\"colab-df-convert\" onclick=\"convertToInteractive('df-4ab32014-4a5d-4dba-bebd-237bfc20955e')\"\n",
              "              title=\"Convert this dataframe to an interactive table.\"\n",
              "              style=\"display:none;\">\n",
              "        \n",
              "  <svg xmlns=\"http://www.w3.org/2000/svg\" height=\"24px\"viewBox=\"0 0 24 24\"\n",
              "       width=\"24px\">\n",
              "    <path d=\"M0 0h24v24H0V0z\" fill=\"none\"/>\n",
              "    <path d=\"M18.56 5.44l.94 2.06.94-2.06 2.06-.94-2.06-.94-.94-2.06-.94 2.06-2.06.94zm-11 1L8.5 8.5l.94-2.06 2.06-.94-2.06-.94L8.5 2.5l-.94 2.06-2.06.94zm10 10l.94 2.06.94-2.06 2.06-.94-2.06-.94-.94-2.06-.94 2.06-2.06.94z\"/><path d=\"M17.41 7.96l-1.37-1.37c-.4-.4-.92-.59-1.43-.59-.52 0-1.04.2-1.43.59L10.3 9.45l-7.72 7.72c-.78.78-.78 2.05 0 2.83L4 21.41c.39.39.9.59 1.41.59.51 0 1.02-.2 1.41-.59l7.78-7.78 2.81-2.81c.8-.78.8-2.07 0-2.86zM5.41 20L4 18.59l7.72-7.72 1.47 1.35L5.41 20z\"/>\n",
              "  </svg>\n",
              "      </button>\n",
              "      \n",
              "  <style>\n",
              "    .colab-df-container {\n",
              "      display:flex;\n",
              "      flex-wrap:wrap;\n",
              "      gap: 12px;\n",
              "    }\n",
              "\n",
              "    .colab-df-convert {\n",
              "      background-color: #E8F0FE;\n",
              "      border: none;\n",
              "      border-radius: 50%;\n",
              "      cursor: pointer;\n",
              "      display: none;\n",
              "      fill: #1967D2;\n",
              "      height: 32px;\n",
              "      padding: 0 0 0 0;\n",
              "      width: 32px;\n",
              "    }\n",
              "\n",
              "    .colab-df-convert:hover {\n",
              "      background-color: #E2EBFA;\n",
              "      box-shadow: 0px 1px 2px rgba(60, 64, 67, 0.3), 0px 1px 3px 1px rgba(60, 64, 67, 0.15);\n",
              "      fill: #174EA6;\n",
              "    }\n",
              "\n",
              "    [theme=dark] .colab-df-convert {\n",
              "      background-color: #3B4455;\n",
              "      fill: #D2E3FC;\n",
              "    }\n",
              "\n",
              "    [theme=dark] .colab-df-convert:hover {\n",
              "      background-color: #434B5C;\n",
              "      box-shadow: 0px 1px 3px 1px rgba(0, 0, 0, 0.15);\n",
              "      filter: drop-shadow(0px 1px 2px rgba(0, 0, 0, 0.3));\n",
              "      fill: #FFFFFF;\n",
              "    }\n",
              "  </style>\n",
              "\n",
              "      <script>\n",
              "        const buttonEl =\n",
              "          document.querySelector('#df-4ab32014-4a5d-4dba-bebd-237bfc20955e button.colab-df-convert');\n",
              "        buttonEl.style.display =\n",
              "          google.colab.kernel.accessAllowed ? 'block' : 'none';\n",
              "\n",
              "        async function convertToInteractive(key) {\n",
              "          const element = document.querySelector('#df-4ab32014-4a5d-4dba-bebd-237bfc20955e');\n",
              "          const dataTable =\n",
              "            await google.colab.kernel.invokeFunction('convertToInteractive',\n",
              "                                                     [key], {});\n",
              "          if (!dataTable) return;\n",
              "\n",
              "          const docLinkHtml = 'Like what you see? Visit the ' +\n",
              "            '<a target=\"_blank\" href=https://colab.research.google.com/notebooks/data_table.ipynb>data table notebook</a>'\n",
              "            + ' to learn more about interactive tables.';\n",
              "          element.innerHTML = '';\n",
              "          dataTable['output_type'] = 'display_data';\n",
              "          await google.colab.output.renderOutput(dataTable, element);\n",
              "          const docLink = document.createElement('div');\n",
              "          docLink.innerHTML = docLinkHtml;\n",
              "          element.appendChild(docLink);\n",
              "        }\n",
              "      </script>\n",
              "    </div>\n",
              "  </div>\n",
              "  "
            ],
            "text/plain": [
              "           DO        pH       ORP       Cond       Temp        WQI  prediction\n",
              "_c0                                                                           \n",
              "0.0  9.494212  12.25697  0.148402  12.954404  17.830261  49.143541           1\n",
              "1.0  9.500406  12.25697  0.144504   8.547796  17.798553  49.143541           1\n",
              "2.0  9.487448  12.25697  0.134372  16.847918  17.864930  49.143541           1\n",
              "3.0  9.486121  12.25697  0.142709  16.884756  17.871735  46.901646           1\n",
              "4.0  9.485211  12.25697  0.137524  16.987082  17.876404  49.143541           1"
            ]
          },
          "execution_count": 122,
          "metadata": {},
          "output_type": "execute_result"
        }
      ],
      "source": [
        "#show pandas dataframe\n",
        "pred_pd.head(5)"
      ]
    },
    {
      "cell_type": "code",
      "execution_count": null,
      "metadata": {
        "colab": {
          "base_uri": "https://localhost:8080/",
          "height": 575
        },
        "id": "mU5ozVHpK3Jg",
        "outputId": "a42702dd-8194-407a-f5b5-96b18b1866ae"
      },
      "outputs": [
        {
          "data": {
            "image/png": "[encoded data removed]",
            "text/plain": [
              "<Figure size 864x720 with 1 Axes>"
            ]
          },
          "metadata": {
            "needs_background": "light"
          },
          "output_type": "display_data"
        }
      ],
      "source": [
        "from mpl_toolkits.mplot3d import Axes3D\n",
        "#Create 3d visualization\n",
        "threedee = plt.figure(figsize=(12,10)).gca(projection='3d')\n",
        "threedee.scatter(pred_pd.DO, pred_pd.pH, pred_pd.ORP, c=pred_pd.prediction, cmap=\"seismic\")\n",
        "threedee.set_title('CLustering')\n",
        "threedee.set_xlabel('DO')\n",
        "threedee.set_ylabel('pH')\n",
        "threedee.set_zlabel('ORP')\n",
        "plt.show()"
      ]
    },
    {
      "cell_type": "code",
      "execution_count": null,
      "metadata": {
        "colab": {
          "base_uri": "https://localhost:8080/",
          "height": 575
        },
        "id": "3ORVLTq-LFLY",
        "outputId": "93b87560-55b3-4c99-e5cc-10724ba4cecf"
      },
      "outputs": [
        {
          "data": {
            "image/png": "[encoded data removed]",
            "text/plain": [
              "<Figure size 864x720 with 1 Axes>"
            ]
          },
          "metadata": {
            "needs_background": "light"
          },
          "output_type": "display_data"
        }
      ],
      "source": [
        "from mpl_toolkits.mplot3d import Axes3D\n",
        "#Create 3d visualization\n",
        "threedee = plt.figure(figsize=(12,10)).gca(projection='3d')\n",
        "threedee.scatter(pred_pd.DO, pred_pd.pH, pred_pd.Temp, c=pred_pd.prediction, cmap=\"seismic\")\n",
        "threedee.set_title('CLustering')\n",
        "threedee.set_xlabel('DO')\n",
        "threedee.set_ylabel('pH')\n",
        "threedee.set_zlabel('Temp')\n",
        "plt.show()"
      ]
    },
    {
      "cell_type": "code",
      "execution_count": null,
      "metadata": {
        "id": "TZH4j5WFLdlr"
      },
      "outputs": [],
      "source": []
    },
    {
      "cell_type": "code",
      "execution_count": null,
      "metadata": {
        "id": "FgdO59RM0cGz"
      },
      "outputs": [],
      "source": []
    },
    {
      "cell_type": "code",
      "execution_count": null,
      "metadata": {
        "id": "m-SOuvrO0cKN"
      },
      "outputs": [],
      "source": []
    },
    {
      "cell_type": "code",
      "execution_count": null,
      "metadata": {
        "colab": {
          "base_uri": "https://localhost:8080/",
          "height": 244
        },
        "id": "tsJgToJ40qSN",
        "outputId": "08ad6802-9cf4-4bcf-8a4d-cee0e4bc4168"
      },
      "outputs": [
        {
          "ename": "IndexError",
          "evalue": "ignored",
          "output_type": "error",
          "traceback": [
            "\u001b[0;31m---------------------------------------------------------------------------\u001b[0m",
            "\u001b[0;31mIndexError\u001b[0m                                Traceback (most recent call last)",
            "\u001b[0;32m<ipython-input-6-4de477f89cc8>\u001b[0m in \u001b[0;36m<module>\u001b[0;34m\u001b[0m\n\u001b[1;32m     14\u001b[0m \u001b[0;31m# Visualize the clustering results\u001b[0m\u001b[0;34m\u001b[0m\u001b[0;34m\u001b[0m\u001b[0;34m\u001b[0m\u001b[0m\n\u001b[1;32m     15\u001b[0m \u001b[0;32mimport\u001b[0m \u001b[0mmatplotlib\u001b[0m\u001b[0;34m.\u001b[0m\u001b[0mpyplot\u001b[0m \u001b[0;32mas\u001b[0m \u001b[0mplt\u001b[0m\u001b[0;34m\u001b[0m\u001b[0;34m\u001b[0m\u001b[0m\n\u001b[0;32m---> 16\u001b[0;31m \u001b[0mplt\u001b[0m\u001b[0;34m.\u001b[0m\u001b[0mscatter\u001b[0m\u001b[0;34m(\u001b[0m\u001b[0mX\u001b[0m\u001b[0;34m[\u001b[0m\u001b[0;34m:\u001b[0m\u001b[0;34m,\u001b[0m \u001b[0;36m1\u001b[0m\u001b[0;34m]\u001b[0m\u001b[0;34m,\u001b[0m \u001b[0mX\u001b[0m\u001b[0;34m[\u001b[0m\u001b[0;34m:\u001b[0m\u001b[0;34m,\u001b[0m \u001b[0;36m2\u001b[0m\u001b[0;34m]\u001b[0m\u001b[0;34m,\u001b[0m \u001b[0mc\u001b[0m\u001b[0;34m=\u001b[0m\u001b[0my_pred\u001b[0m\u001b[0;34m)\u001b[0m\u001b[0;34m\u001b[0m\u001b[0;34m\u001b[0m\u001b[0m\n\u001b[0m\u001b[1;32m     17\u001b[0m \u001b[0mplt\u001b[0m\u001b[0;34m.\u001b[0m\u001b[0mxlabel\u001b[0m\u001b[0;34m(\u001b[0m\u001b[0;34m\"Feature 1\"\u001b[0m\u001b[0;34m)\u001b[0m\u001b[0;34m\u001b[0m\u001b[0;34m\u001b[0m\u001b[0m\n\u001b[1;32m     18\u001b[0m \u001b[0mplt\u001b[0m\u001b[0;34m.\u001b[0m\u001b[0mylabel\u001b[0m\u001b[0;34m(\u001b[0m\u001b[0;34m\"Feature 2\"\u001b[0m\u001b[0;34m)\u001b[0m\u001b[0;34m\u001b[0m\u001b[0;34m\u001b[0m\u001b[0m\n",
            "\u001b[0;31mIndexError\u001b[0m: index 2 is out of bounds for axis 1 with size 2"
          ]
        }
      ],
      "source": [
        "from sklearn.cluster import DBSCAN\n",
        "from sklearn.preprocessing import StandardScaler\n",
        "import pandas as pd\n",
        "\n",
        "# Load the dataset\n",
        "df = pd.read_csv(\"Sangam updated.csv\")\n",
        "\n",
        "# Preprocess the data using standardization\n",
        "\n",
        "# Apply DBSCAN clustering algorithm\n",
        "dbscan = DBSCAN(eps=0.5, min_samples=5)\n",
        "y_pred = dbscan.fit_predict(X)\n",
        "\n",
        "# Visualize the clustering results\n",
        "import matplotlib.pyplot as plt\n",
        "plt.scatter(X[:, 1], X[:, 2], c=y_pred)\n",
        "plt.xlabel(\"Feature 1\")\n",
        "plt.ylabel(\"Feature 2\")\n",
        "plt.title(\"DBSCAN Clustering Results\")\n",
        "plt.show()"
      ]
    },
    {
      "cell_type": "code",
      "execution_count": null,
      "metadata": {
        "id": "UUyjm78t1Ki0"
      },
      "outputs": [],
      "source": []
    }
  ],
  "metadata": {
    "colab": {
      "provenance": []
    },
    "kernelspec": {
      "display_name": "Python 3",
      "language": "python",
      "name": "python3"
    },
    "language_info": {
      "name": "python",
      "version": "3.8.10 (default, Nov 14 2022, 12:59:47) \n[GCC 9.4.0]"
    },
    "vscode": {
      "interpreter": {
        "hash": "916dbcbb3f70747c44a77c7bcd40155683ae19c65e1c03b4aa3499c5328201f1"
      }
    }
  },
  "nbformat": 4,
  "nbformat_minor": 0
}
